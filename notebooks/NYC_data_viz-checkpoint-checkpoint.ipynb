{
 "cells": [
  {
   "cell_type": "code",
   "execution_count": 4,
   "id": "1405e0f9",
   "metadata": {},
   "outputs": [],
   "source": [
    "%load_ext autoreload\n",
    "%autoreload 2"
   ]
  },
  {
   "cell_type": "code",
   "execution_count": 5,
   "id": "65dcaf9f-d084-48e4-828c-51a8198717e8",
   "metadata": {},
   "outputs": [],
   "source": [
    "import pandas as pd\n",
    "import numpy as np\n",
    "import matplotlib.pyplot as plt\n",
    "import seaborn as sns\n",
    "import plotly.express as px\n",
    "from sklearn.preprocessing import StandardScaler\n",
    "from sklearn.model_selection import train_test_split"
   ]
  },
  {
   "cell_type": "markdown",
   "id": "eeafd923-62b5-4dcd-a0fb-f0b52e116b8e",
   "metadata": {},
   "source": [
    "# Data viz"
   ]
  },
  {
   "cell_type": "code",
   "execution_count": 6,
   "id": "c22fce0c-ad08-482a-934b-0d74956d4bf5",
   "metadata": {
    "scrolled": true
   },
   "outputs": [
    {
     "data": {
      "text/html": [
       "<div>\n",
       "<style scoped>\n",
       "    .dataframe tbody tr th:only-of-type {\n",
       "        vertical-align: middle;\n",
       "    }\n",
       "\n",
       "    .dataframe tbody tr th {\n",
       "        vertical-align: top;\n",
       "    }\n",
       "\n",
       "    .dataframe thead th {\n",
       "        text-align: right;\n",
       "    }\n",
       "</style>\n",
       "<table border=\"1\" class=\"dataframe\">\n",
       "  <thead>\n",
       "    <tr style=\"text-align: right;\">\n",
       "      <th></th>\n",
       "      <th>RecordedAtTime</th>\n",
       "      <th>DirectionRef</th>\n",
       "      <th>PublishedLineName</th>\n",
       "      <th>OriginName</th>\n",
       "      <th>OriginLat</th>\n",
       "      <th>OriginLong</th>\n",
       "      <th>DestinationName</th>\n",
       "      <th>DestinationLat</th>\n",
       "      <th>DestinationLong</th>\n",
       "      <th>VehicleRef</th>\n",
       "      <th>VehicleLocation.Latitude</th>\n",
       "      <th>VehicleLocation.Longitude</th>\n",
       "      <th>NextStopPointName</th>\n",
       "      <th>ArrivalProximityText</th>\n",
       "      <th>DistanceFromStop</th>\n",
       "      <th>ExpectedArrivalTime</th>\n",
       "      <th>ScheduledArrivalTime</th>\n",
       "    </tr>\n",
       "  </thead>\n",
       "  <tbody>\n",
       "    <tr>\n",
       "      <th>0</th>\n",
       "      <td>2017-06-01 00:03:34</td>\n",
       "      <td>0</td>\n",
       "      <td>B8</td>\n",
       "      <td>4 AV/95 ST</td>\n",
       "      <td>40.616104</td>\n",
       "      <td>-74.031143</td>\n",
       "      <td>BROWNSVILLE ROCKAWAY AV</td>\n",
       "      <td>40.656048</td>\n",
       "      <td>-73.907379</td>\n",
       "      <td>NYCT_430</td>\n",
       "      <td>40.635170</td>\n",
       "      <td>-73.960803</td>\n",
       "      <td>FOSTER AV/E 18 ST</td>\n",
       "      <td>approaching</td>\n",
       "      <td>76.0</td>\n",
       "      <td>2017-06-01 00:03:59</td>\n",
       "      <td>24:06:14</td>\n",
       "    </tr>\n",
       "    <tr>\n",
       "      <th>1</th>\n",
       "      <td>2017-06-01 00:03:43</td>\n",
       "      <td>1</td>\n",
       "      <td>S61</td>\n",
       "      <td>ST GEORGE FERRY/S61 &amp; S91</td>\n",
       "      <td>40.643169</td>\n",
       "      <td>-74.073494</td>\n",
       "      <td>S I MALL YUKON AV</td>\n",
       "      <td>40.575935</td>\n",
       "      <td>-74.167686</td>\n",
       "      <td>NYCT_8263</td>\n",
       "      <td>40.590802</td>\n",
       "      <td>-74.158340</td>\n",
       "      <td>MERRYMOUNT ST/TRAVIS AV</td>\n",
       "      <td>approaching</td>\n",
       "      <td>62.0</td>\n",
       "      <td>2017-06-01 00:03:56</td>\n",
       "      <td>23:58:02</td>\n",
       "    </tr>\n",
       "    <tr>\n",
       "      <th>2</th>\n",
       "      <td>2017-06-01 00:03:49</td>\n",
       "      <td>0</td>\n",
       "      <td>Bx10</td>\n",
       "      <td>E 206 ST/BAINBRIDGE AV</td>\n",
       "      <td>40.875008</td>\n",
       "      <td>-73.880142</td>\n",
       "      <td>RIVERDALE 263 ST</td>\n",
       "      <td>40.912376</td>\n",
       "      <td>-73.902534</td>\n",
       "      <td>NYCT_4223</td>\n",
       "      <td>40.886010</td>\n",
       "      <td>-73.912647</td>\n",
       "      <td>HENRY HUDSON PKY E/W 235 ST</td>\n",
       "      <td>at stop</td>\n",
       "      <td>5.0</td>\n",
       "      <td>2017-06-01 00:03:56</td>\n",
       "      <td>24:00:53</td>\n",
       "    </tr>\n",
       "    <tr>\n",
       "      <th>3</th>\n",
       "      <td>2017-06-01 00:03:31</td>\n",
       "      <td>0</td>\n",
       "      <td>Q5</td>\n",
       "      <td>TEARDROP/LAYOVER</td>\n",
       "      <td>40.701748</td>\n",
       "      <td>-73.802399</td>\n",
       "      <td>ROSEDALE LIRR STA via MERRICK</td>\n",
       "      <td>40.666012</td>\n",
       "      <td>-73.735939</td>\n",
       "      <td>NYCT_8422</td>\n",
       "      <td>40.668002</td>\n",
       "      <td>-73.729348</td>\n",
       "      <td>HOOK CREEK BL/SUNRISE HY</td>\n",
       "      <td>&lt; 1 stop away</td>\n",
       "      <td>267.0</td>\n",
       "      <td>2017-06-01 00:04:03</td>\n",
       "      <td>24:03:00</td>\n",
       "    </tr>\n",
       "    <tr>\n",
       "      <th>4</th>\n",
       "      <td>2017-06-01 00:03:22</td>\n",
       "      <td>1</td>\n",
       "      <td>Bx1</td>\n",
       "      <td>RIVERDALE AV/W 231 ST</td>\n",
       "      <td>40.881187</td>\n",
       "      <td>-73.909340</td>\n",
       "      <td>MOTT HAVEN 136 ST via CONCOURSE</td>\n",
       "      <td>40.809654</td>\n",
       "      <td>-73.928360</td>\n",
       "      <td>NYCT_4710</td>\n",
       "      <td>40.868134</td>\n",
       "      <td>-73.893032</td>\n",
       "      <td>GRAND CONCOURSE/E 196 ST</td>\n",
       "      <td>at stop</td>\n",
       "      <td>11.0</td>\n",
       "      <td>2017-06-01 00:03:56</td>\n",
       "      <td>23:59:38</td>\n",
       "    </tr>\n",
       "    <tr>\n",
       "      <th>5</th>\n",
       "      <td>2017-06-01 00:03:40</td>\n",
       "      <td>0</td>\n",
       "      <td>M1</td>\n",
       "      <td>4 AV/E 10 ST</td>\n",
       "      <td>40.731342</td>\n",
       "      <td>-73.990288</td>\n",
       "      <td>HARLEM 147 ST via MADISON</td>\n",
       "      <td>40.821110</td>\n",
       "      <td>-73.935898</td>\n",
       "      <td>NYCT_3831</td>\n",
       "      <td>40.792897</td>\n",
       "      <td>-73.950023</td>\n",
       "      <td>MADISON AV/E 106 ST</td>\n",
       "      <td>approaching</td>\n",
       "      <td>73.0</td>\n",
       "      <td>2017-06-01 00:03:56</td>\n",
       "      <td>24:02:35</td>\n",
       "    </tr>\n",
       "    <tr>\n",
       "      <th>6</th>\n",
       "      <td>2017-06-01 00:03:24</td>\n",
       "      <td>0</td>\n",
       "      <td>B31</td>\n",
       "      <td>GERRITSEN AV/GERRITSEN BEACH</td>\n",
       "      <td>40.587101</td>\n",
       "      <td>-73.918503</td>\n",
       "      <td>MIDWOOD KINGS HWY STA</td>\n",
       "      <td>40.608433</td>\n",
       "      <td>-73.957100</td>\n",
       "      <td>NYCT_4611</td>\n",
       "      <td>40.587024</td>\n",
       "      <td>-73.918623</td>\n",
       "      <td>GERRITSEN AV/GERRITSEN BEACH</td>\n",
       "      <td>at stop</td>\n",
       "      <td>0.0</td>\n",
       "      <td>NaN</td>\n",
       "      <td>24:08:00</td>\n",
       "    </tr>\n",
       "    <tr>\n",
       "      <th>7</th>\n",
       "      <td>2017-06-01 00:03:29</td>\n",
       "      <td>0</td>\n",
       "      <td>B83</td>\n",
       "      <td>GATEWAY CTR TERM/GATEWAY DR</td>\n",
       "      <td>40.652649</td>\n",
       "      <td>-73.877029</td>\n",
       "      <td>BWAY JCT VN SNDRN AV</td>\n",
       "      <td>40.678139</td>\n",
       "      <td>-73.903572</td>\n",
       "      <td>NYCT_4841</td>\n",
       "      <td>40.648801</td>\n",
       "      <td>-73.882682</td>\n",
       "      <td>PENNSYLVANIA AV/DELMAR LOOP N</td>\n",
       "      <td>&lt; 1 stop away</td>\n",
       "      <td>196.0</td>\n",
       "      <td>2017-06-01 00:04:13</td>\n",
       "      <td>23:58:47</td>\n",
       "    </tr>\n",
       "    <tr>\n",
       "      <th>8</th>\n",
       "      <td>2017-06-01 00:03:27</td>\n",
       "      <td>0</td>\n",
       "      <td>B82</td>\n",
       "      <td>STILLWELL TERMINAL BUS LOOP</td>\n",
       "      <td>40.577080</td>\n",
       "      <td>-73.981293</td>\n",
       "      <td>SPRING CRK TWRS SEAVIEW AV via KINGS HWY</td>\n",
       "      <td>40.642990</td>\n",
       "      <td>-73.878326</td>\n",
       "      <td>NYCT_6592</td>\n",
       "      <td>40.632258</td>\n",
       "      <td>-73.918318</td>\n",
       "      <td>FLATLANDS AV/RALPH AV</td>\n",
       "      <td>approaching</td>\n",
       "      <td>35.0</td>\n",
       "      <td>2017-06-01 00:03:56</td>\n",
       "      <td>24:00:00</td>\n",
       "    </tr>\n",
       "    <tr>\n",
       "      <th>9</th>\n",
       "      <td>2017-06-01 00:03:51</td>\n",
       "      <td>1</td>\n",
       "      <td>S59</td>\n",
       "      <td>RICHMOND TER/PARK AV #3</td>\n",
       "      <td>40.640167</td>\n",
       "      <td>-74.130966</td>\n",
       "      <td>HYLAN BL</td>\n",
       "      <td>40.534260</td>\n",
       "      <td>-74.154213</td>\n",
       "      <td>NYCT_8279</td>\n",
       "      <td>40.590689</td>\n",
       "      <td>-74.165811</td>\n",
       "      <td>RICHMOND AV/NOME AV</td>\n",
       "      <td>approaching</td>\n",
       "      <td>31.0</td>\n",
       "      <td>2017-06-01 00:03:56</td>\n",
       "      <td>24:01:14</td>\n",
       "    </tr>\n",
       "  </tbody>\n",
       "</table>\n",
       "</div>"
      ],
      "text/plain": [
       "        RecordedAtTime  DirectionRef PublishedLineName  \\\n",
       "0  2017-06-01 00:03:34             0                B8   \n",
       "1  2017-06-01 00:03:43             1               S61   \n",
       "2  2017-06-01 00:03:49             0              Bx10   \n",
       "3  2017-06-01 00:03:31             0                Q5   \n",
       "4  2017-06-01 00:03:22             1               Bx1   \n",
       "5  2017-06-01 00:03:40             0                M1   \n",
       "6  2017-06-01 00:03:24             0               B31   \n",
       "7  2017-06-01 00:03:29             0               B83   \n",
       "8  2017-06-01 00:03:27             0               B82   \n",
       "9  2017-06-01 00:03:51             1               S59   \n",
       "\n",
       "                     OriginName  OriginLat  OriginLong  \\\n",
       "0                    4 AV/95 ST  40.616104  -74.031143   \n",
       "1     ST GEORGE FERRY/S61 & S91  40.643169  -74.073494   \n",
       "2        E 206 ST/BAINBRIDGE AV  40.875008  -73.880142   \n",
       "3              TEARDROP/LAYOVER  40.701748  -73.802399   \n",
       "4         RIVERDALE AV/W 231 ST  40.881187  -73.909340   \n",
       "5                  4 AV/E 10 ST  40.731342  -73.990288   \n",
       "6  GERRITSEN AV/GERRITSEN BEACH  40.587101  -73.918503   \n",
       "7   GATEWAY CTR TERM/GATEWAY DR  40.652649  -73.877029   \n",
       "8   STILLWELL TERMINAL BUS LOOP  40.577080  -73.981293   \n",
       "9       RICHMOND TER/PARK AV #3  40.640167  -74.130966   \n",
       "\n",
       "                            DestinationName  DestinationLat  DestinationLong  \\\n",
       "0                   BROWNSVILLE ROCKAWAY AV       40.656048       -73.907379   \n",
       "1                         S I MALL YUKON AV       40.575935       -74.167686   \n",
       "2                          RIVERDALE 263 ST       40.912376       -73.902534   \n",
       "3             ROSEDALE LIRR STA via MERRICK       40.666012       -73.735939   \n",
       "4           MOTT HAVEN 136 ST via CONCOURSE       40.809654       -73.928360   \n",
       "5                 HARLEM 147 ST via MADISON       40.821110       -73.935898   \n",
       "6                     MIDWOOD KINGS HWY STA       40.608433       -73.957100   \n",
       "7                      BWAY JCT VN SNDRN AV       40.678139       -73.903572   \n",
       "8  SPRING CRK TWRS SEAVIEW AV via KINGS HWY       40.642990       -73.878326   \n",
       "9                                  HYLAN BL       40.534260       -74.154213   \n",
       "\n",
       "  VehicleRef  VehicleLocation.Latitude  VehicleLocation.Longitude  \\\n",
       "0   NYCT_430                 40.635170                 -73.960803   \n",
       "1  NYCT_8263                 40.590802                 -74.158340   \n",
       "2  NYCT_4223                 40.886010                 -73.912647   \n",
       "3  NYCT_8422                 40.668002                 -73.729348   \n",
       "4  NYCT_4710                 40.868134                 -73.893032   \n",
       "5  NYCT_3831                 40.792897                 -73.950023   \n",
       "6  NYCT_4611                 40.587024                 -73.918623   \n",
       "7  NYCT_4841                 40.648801                 -73.882682   \n",
       "8  NYCT_6592                 40.632258                 -73.918318   \n",
       "9  NYCT_8279                 40.590689                 -74.165811   \n",
       "\n",
       "               NextStopPointName ArrivalProximityText  DistanceFromStop  \\\n",
       "0              FOSTER AV/E 18 ST          approaching              76.0   \n",
       "1        MERRYMOUNT ST/TRAVIS AV          approaching              62.0   \n",
       "2    HENRY HUDSON PKY E/W 235 ST              at stop               5.0   \n",
       "3       HOOK CREEK BL/SUNRISE HY        < 1 stop away             267.0   \n",
       "4       GRAND CONCOURSE/E 196 ST              at stop              11.0   \n",
       "5            MADISON AV/E 106 ST          approaching              73.0   \n",
       "6   GERRITSEN AV/GERRITSEN BEACH              at stop               0.0   \n",
       "7  PENNSYLVANIA AV/DELMAR LOOP N        < 1 stop away             196.0   \n",
       "8          FLATLANDS AV/RALPH AV          approaching              35.0   \n",
       "9            RICHMOND AV/NOME AV          approaching              31.0   \n",
       "\n",
       "   ExpectedArrivalTime ScheduledArrivalTime  \n",
       "0  2017-06-01 00:03:59             24:06:14  \n",
       "1  2017-06-01 00:03:56             23:58:02  \n",
       "2  2017-06-01 00:03:56             24:00:53  \n",
       "3  2017-06-01 00:04:03             24:03:00  \n",
       "4  2017-06-01 00:03:56             23:59:38  \n",
       "5  2017-06-01 00:03:56             24:02:35  \n",
       "6                  NaN             24:08:00  \n",
       "7  2017-06-01 00:04:13             23:58:47  \n",
       "8  2017-06-01 00:03:56             24:00:00  \n",
       "9  2017-06-01 00:03:56             24:01:14  "
      ]
     },
     "execution_count": 6,
     "metadata": {},
     "output_type": "execute_result"
    }
   ],
   "source": [
    "file = \"../raw_data/mta_1706.csv\"\n",
    "data = pd.read_csv(file, on_bad_lines=\"skip\", nrows=1000000)\n",
    "data.head(10)"
   ]
  },
  {
   "cell_type": "code",
   "execution_count": 7,
   "id": "79c72747",
   "metadata": {},
   "outputs": [
    {
     "name": "stdout",
     "output_type": "stream",
     "text": [
      "<class 'pandas.core.frame.DataFrame'>\n",
      "RangeIndex: 1000000 entries, 0 to 999999\n",
      "Data columns (total 17 columns):\n",
      " #   Column                     Non-Null Count    Dtype  \n",
      "---  ------                     --------------    -----  \n",
      " 0   RecordedAtTime             1000000 non-null  object \n",
      " 1   DirectionRef               1000000 non-null  int64  \n",
      " 2   PublishedLineName          1000000 non-null  object \n",
      " 3   OriginName                 991537 non-null   object \n",
      " 4   OriginLat                  991537 non-null   float64\n",
      " 5   OriginLong                 991537 non-null   float64\n",
      " 6   DestinationName            1000000 non-null  object \n",
      " 7   DestinationLat             998754 non-null   float64\n",
      " 8   DestinationLong            998754 non-null   float64\n",
      " 9   VehicleRef                 1000000 non-null  object \n",
      " 10  VehicleLocation.Latitude   1000000 non-null  float64\n",
      " 11  VehicleLocation.Longitude  1000000 non-null  float64\n",
      " 12  NextStopPointName          998951 non-null   object \n",
      " 13  ArrivalProximityText       998951 non-null   object \n",
      " 14  DistanceFromStop           998951 non-null   float64\n",
      " 15  ExpectedArrivalTime        889103 non-null   object \n",
      " 16  ScheduledArrivalTime       975197 non-null   object \n",
      "dtypes: float64(7), int64(1), object(9)\n",
      "memory usage: 129.7+ MB\n"
     ]
    }
   ],
   "source": [
    "data.info()"
   ]
  },
  {
   "cell_type": "code",
   "execution_count": 8,
   "id": "cb301125",
   "metadata": {},
   "outputs": [
    {
     "data": {
      "text/plain": [
       "RecordedAtTime                object\n",
       "DirectionRef                   int64\n",
       "PublishedLineName             object\n",
       "OriginName                    object\n",
       "OriginLat                    float64\n",
       "OriginLong                   float64\n",
       "DestinationName               object\n",
       "DestinationLat               float64\n",
       "DestinationLong              float64\n",
       "VehicleRef                    object\n",
       "VehicleLocation.Latitude     float64\n",
       "VehicleLocation.Longitude    float64\n",
       "NextStopPointName             object\n",
       "ArrivalProximityText          object\n",
       "DistanceFromStop             float64\n",
       "ExpectedArrivalTime           object\n",
       "ScheduledArrivalTime          object\n",
       "dtype: object"
      ]
     },
     "execution_count": 8,
     "metadata": {},
     "output_type": "execute_result"
    }
   ],
   "source": [
    "data.dtypes"
   ]
  },
  {
   "cell_type": "markdown",
   "id": "54c94b78",
   "metadata": {},
   "source": [
    "## Convert Time Columns to Datetime Format"
   ]
  },
  {
   "cell_type": "code",
   "execution_count": 9,
   "id": "e93c82e6",
   "metadata": {},
   "outputs": [],
   "source": [
    "data['RecordedAtTime'] = pd.to_datetime(data['RecordedAtTime'])\n",
    "data['ExpectedArrivalTime'] = pd.to_datetime(data['ExpectedArrivalTime'])"
   ]
  },
  {
   "cell_type": "code",
   "execution_count": 10,
   "id": "0f205c7f",
   "metadata": {},
   "outputs": [],
   "source": [
    "# Using Vectorized Operations\n",
    "# since the db is very very large and classical python iterations is too slow.\n",
    "\n",
    "times = data['ScheduledArrivalTime'].str.split(':', expand=True)\n",
    "times = times.fillna('0').astype(float)\n",
    "hours, minutes, seconds = times[0], times[1], times[2]\n",
    "\n",
    "new_hours = np.where(hours >= 24, hours - 24, hours)\n",
    "days_to_add = np.where(hours >= 24, 1, 0)\n",
    "\n",
    "valid_rows = ~hours.isna() & ~minutes.isna() & ~seconds.isna()\n",
    "\n",
    "data.loc[valid_rows, 'ScheduledArrivalTime'] = (\n",
    "    pd.to_datetime(\n",
    "        new_hours.astype(int).astype(str) + ':' +\n",
    "        minutes.astype(int).astype(str) + ':' +\n",
    "        seconds.astype(int).astype(str),\n",
    "        format='%H:%M:%S'\n",
    "    ) + pd.to_timedelta(days_to_add[valid_rows], unit='days')\n",
    ")\n",
    "\n",
    "data.loc[~valid_rows, 'ScheduledArrivalTime'] = pd.NaT"
   ]
  },
  {
   "cell_type": "code",
   "execution_count": 11,
   "id": "b42e5f12",
   "metadata": {},
   "outputs": [],
   "source": [
    "data['ScheduledArrivalTime'] = pd.to_datetime(data['ScheduledArrivalTime'])"
   ]
  },
  {
   "cell_type": "code",
   "execution_count": 12,
   "id": "ba3d9e43",
   "metadata": {},
   "outputs": [
    {
     "data": {
      "text/plain": [
       "0        2017-06-01 00:06:14\n",
       "1        2017-06-01 23:58:02\n",
       "2        2017-06-01 00:00:53\n",
       "3        2017-06-01 00:03:00\n",
       "4        2017-06-01 23:59:38\n",
       "                 ...        \n",
       "999995   2017-06-05 17:20:00\n",
       "999996   2017-06-05 17:32:22\n",
       "999997   2017-06-05 17:29:06\n",
       "999998   2017-06-05 17:27:50\n",
       "999999   2017-06-05 17:25:00\n",
       "Name: ScheduledArrivalTime, Length: 1000000, dtype: datetime64[ns]"
      ]
     },
     "execution_count": 12,
     "metadata": {},
     "output_type": "execute_result"
    }
   ],
   "source": [
    "data['ScheduledArrivalTime'] = (\n",
    "    pd.to_datetime(data['RecordedAtTime'].dt.date.astype(str) + ' ' + data['ScheduledArrivalTime'].dt.time.astype(str))\n",
    ")\n",
    "data['ScheduledArrivalTime']"
   ]
  },
  {
   "cell_type": "code",
   "execution_count": 13,
   "id": "59a8ed13",
   "metadata": {},
   "outputs": [
    {
     "name": "stdout",
     "output_type": "stream",
     "text": [
      "0\n"
     ]
    }
   ],
   "source": [
    "print(data['RecordedAtTime'].isna().sum())"
   ]
  },
  {
   "cell_type": "code",
   "execution_count": 14,
   "id": "765e933c",
   "metadata": {},
   "outputs": [
    {
     "name": "stdout",
     "output_type": "stream",
     "text": [
      "110897\n"
     ]
    }
   ],
   "source": [
    "print(data['ExpectedArrivalTime'].isna().sum())"
   ]
  },
  {
   "cell_type": "code",
   "execution_count": 15,
   "id": "6d3fc945",
   "metadata": {},
   "outputs": [
    {
     "name": "stdout",
     "output_type": "stream",
     "text": [
      "0\n"
     ]
    }
   ],
   "source": [
    "print(data['ScheduledArrivalTime'].isna().sum())"
   ]
  },
  {
   "cell_type": "markdown",
   "id": "35540b5d",
   "metadata": {},
   "source": [
    "## Data Cleaning"
   ]
  },
  {
   "cell_type": "code",
   "execution_count": 16,
   "id": "2ac0ca3c",
   "metadata": {},
   "outputs": [
    {
     "ename": "NameError",
     "evalue": "name 'data_cleaned' is not defined",
     "output_type": "error",
     "traceback": [
      "\u001b[0;31m---------------------------------------------------------------------------\u001b[0m",
      "\u001b[0;31mNameError\u001b[0m                                 Traceback (most recent call last)",
      "Cell \u001b[0;32mIn[16], line 1\u001b[0m\n\u001b[0;32m----> 1\u001b[0m \u001b[43mdata_cleaned\u001b[49m\u001b[38;5;241m.\u001b[39mcolumns\n",
      "\u001b[0;31mNameError\u001b[0m: name 'data_cleaned' is not defined"
     ]
    }
   ],
   "source": [
    "data_cleaned.columns"
   ]
  },
  {
   "cell_type": "code",
   "execution_count": null,
   "id": "6a132c38",
   "metadata": {},
   "outputs": [],
   "source": [
    "# List of columns to drop\n",
    "columns_to_drop = ['PublishedLineName', 'OriginName', 'DestinationName', 'VehicleRef', 'NextStopPointName', 'ArrivalProximityText']\n",
    "\n",
    "# Drop the columns\n",
    "data_cleaned = data.drop(columns=columns_to_drop)"
   ]
  },
  {
   "cell_type": "code",
   "execution_count": null,
   "id": "d5a3c68e",
   "metadata": {},
   "outputs": [],
   "source": [
    "# Drop rows where 'ExpectedArrivalTime' is missing (since it's needed for target)\n",
    "data_cleaned = data_cleaned.dropna()"
   ]
  },
  {
   "cell_type": "code",
   "execution_count": null,
   "id": "7d12f1e7",
   "metadata": {},
   "outputs": [
    {
     "data": {
      "text/plain": [
       "RecordedAtTime               0\n",
       "DirectionRef                 0\n",
       "OriginLat                    0\n",
       "OriginLong                   0\n",
       "DestinationLat               0\n",
       "DestinationLong              0\n",
       "VehicleLocation.Latitude     0\n",
       "VehicleLocation.Longitude    0\n",
       "DistanceFromStop             0\n",
       "ExpectedArrivalTime          0\n",
       "ScheduledArrivalTime         0\n",
       "dtype: int64"
      ]
     },
     "execution_count": 15,
     "metadata": {},
     "output_type": "execute_result"
    }
   ],
   "source": [
    "# Inspect the data after handling missing values\n",
    "data_cleaned.isnull().sum()"
   ]
  },
  {
   "cell_type": "code",
   "execution_count": null,
   "id": "2b3b1fb0",
   "metadata": {},
   "outputs": [
    {
     "name": "stdout",
     "output_type": "stream",
     "text": [
      "<class 'pandas.core.frame.DataFrame'>\n",
      "Index: 881764 entries, 0 to 999998\n",
      "Data columns (total 11 columns):\n",
      " #   Column                     Non-Null Count   Dtype         \n",
      "---  ------                     --------------   -----         \n",
      " 0   RecordedAtTime             881764 non-null  datetime64[ns]\n",
      " 1   DirectionRef               881764 non-null  int64         \n",
      " 2   OriginLat                  881764 non-null  float64       \n",
      " 3   OriginLong                 881764 non-null  float64       \n",
      " 4   DestinationLat             881764 non-null  float64       \n",
      " 5   DestinationLong            881764 non-null  float64       \n",
      " 6   VehicleLocation.Latitude   881764 non-null  float64       \n",
      " 7   VehicleLocation.Longitude  881764 non-null  float64       \n",
      " 8   DistanceFromStop           881764 non-null  float64       \n",
      " 9   ExpectedArrivalTime        881764 non-null  datetime64[ns]\n",
      " 10  ScheduledArrivalTime       881764 non-null  datetime64[ns]\n",
      "dtypes: datetime64[ns](3), float64(7), int64(1)\n",
      "memory usage: 80.7 MB\n"
     ]
    }
   ],
   "source": [
    "data_cleaned.info()"
   ]
  },
  {
   "cell_type": "code",
   "execution_count": null,
   "id": "4d5cf916",
   "metadata": {},
   "outputs": [],
   "source": [
    "# Remove duplicate rows if any\n",
    "data_cleaned = data_cleaned.drop_duplicates()"
   ]
  },
  {
   "cell_type": "code",
   "execution_count": null,
   "id": "e5d999d6",
   "metadata": {},
   "outputs": [
    {
     "data": {
      "text/html": [
       "<div>\n",
       "<style scoped>\n",
       "    .dataframe tbody tr th:only-of-type {\n",
       "        vertical-align: middle;\n",
       "    }\n",
       "\n",
       "    .dataframe tbody tr th {\n",
       "        vertical-align: top;\n",
       "    }\n",
       "\n",
       "    .dataframe thead th {\n",
       "        text-align: right;\n",
       "    }\n",
       "</style>\n",
       "<table border=\"1\" class=\"dataframe\">\n",
       "  <thead>\n",
       "    <tr style=\"text-align: right;\">\n",
       "      <th></th>\n",
       "      <th>ExpectedArrivalTime</th>\n",
       "      <th>ScheduledArrivalTime</th>\n",
       "      <th>TimeDifference</th>\n",
       "    </tr>\n",
       "  </thead>\n",
       "  <tbody>\n",
       "    <tr>\n",
       "      <th>0</th>\n",
       "      <td>2017-06-01 00:03:59</td>\n",
       "      <td>2017-06-01 00:06:14</td>\n",
       "      <td>-2.250000</td>\n",
       "    </tr>\n",
       "    <tr>\n",
       "      <th>1</th>\n",
       "      <td>2017-06-01 00:03:56</td>\n",
       "      <td>2017-06-01 23:58:02</td>\n",
       "      <td>-1434.100000</td>\n",
       "    </tr>\n",
       "    <tr>\n",
       "      <th>2</th>\n",
       "      <td>2017-06-01 00:03:56</td>\n",
       "      <td>2017-06-01 00:00:53</td>\n",
       "      <td>3.050000</td>\n",
       "    </tr>\n",
       "    <tr>\n",
       "      <th>3</th>\n",
       "      <td>2017-06-01 00:04:03</td>\n",
       "      <td>2017-06-01 00:03:00</td>\n",
       "      <td>1.050000</td>\n",
       "    </tr>\n",
       "    <tr>\n",
       "      <th>4</th>\n",
       "      <td>2017-06-01 00:03:56</td>\n",
       "      <td>2017-06-01 23:59:38</td>\n",
       "      <td>-1435.700000</td>\n",
       "    </tr>\n",
       "    <tr>\n",
       "      <th>5</th>\n",
       "      <td>2017-06-01 00:03:56</td>\n",
       "      <td>2017-06-01 00:02:35</td>\n",
       "      <td>1.350000</td>\n",
       "    </tr>\n",
       "    <tr>\n",
       "      <th>7</th>\n",
       "      <td>2017-06-01 00:04:13</td>\n",
       "      <td>2017-06-01 23:58:47</td>\n",
       "      <td>-1434.566667</td>\n",
       "    </tr>\n",
       "    <tr>\n",
       "      <th>8</th>\n",
       "      <td>2017-06-01 00:03:56</td>\n",
       "      <td>2017-06-01 00:00:00</td>\n",
       "      <td>3.933333</td>\n",
       "    </tr>\n",
       "    <tr>\n",
       "      <th>9</th>\n",
       "      <td>2017-06-01 00:03:56</td>\n",
       "      <td>2017-06-01 00:01:14</td>\n",
       "      <td>2.700000</td>\n",
       "    </tr>\n",
       "    <tr>\n",
       "      <th>10</th>\n",
       "      <td>2017-06-01 00:04:29</td>\n",
       "      <td>2017-06-01 23:48:35</td>\n",
       "      <td>-1424.100000</td>\n",
       "    </tr>\n",
       "  </tbody>\n",
       "</table>\n",
       "</div>"
      ],
      "text/plain": [
       "   ExpectedArrivalTime ScheduledArrivalTime  TimeDifference\n",
       "0  2017-06-01 00:03:59  2017-06-01 00:06:14       -2.250000\n",
       "1  2017-06-01 00:03:56  2017-06-01 23:58:02    -1434.100000\n",
       "2  2017-06-01 00:03:56  2017-06-01 00:00:53        3.050000\n",
       "3  2017-06-01 00:04:03  2017-06-01 00:03:00        1.050000\n",
       "4  2017-06-01 00:03:56  2017-06-01 23:59:38    -1435.700000\n",
       "5  2017-06-01 00:03:56  2017-06-01 00:02:35        1.350000\n",
       "7  2017-06-01 00:04:13  2017-06-01 23:58:47    -1434.566667\n",
       "8  2017-06-01 00:03:56  2017-06-01 00:00:00        3.933333\n",
       "9  2017-06-01 00:03:56  2017-06-01 00:01:14        2.700000\n",
       "10 2017-06-01 00:04:29  2017-06-01 23:48:35    -1424.100000"
      ]
     },
     "execution_count": 22,
     "metadata": {},
     "output_type": "execute_result"
    }
   ],
   "source": [
    "# Calculate the time difference between ExpectedArrivalTime and ScheduledArrivalTime\n",
    "data_cleaned['TimeDifference'] = (data_cleaned['ExpectedArrivalTime'] - data_cleaned['ScheduledArrivalTime']).dt.total_seconds() / 60\n",
    "\n",
    "# Inspect the data with the new target column\n",
    "data_cleaned[['ExpectedArrivalTime', 'ScheduledArrivalTime', 'TimeDifference']].head(10)"
   ]
  },
  {
   "cell_type": "code",
   "execution_count": null,
   "id": "d9b37f88",
   "metadata": {},
   "outputs": [],
   "source": [
    "# Removing outliers by keeping values that are between -100 and 100 minutes\n",
    "data_cleaned = data_cleaned [data_cleaned[\"TimeDifference\"].between(-100, +100,inclusive=\"both\")]"
   ]
  },
  {
   "cell_type": "code",
   "execution_count": null,
   "id": "e9c0dd9a",
   "metadata": {},
   "outputs": [],
   "source": [
    "# Reset index after cleaning\n",
    "data_cleaned = data_cleaned.reset_index(drop=True)"
   ]
  },
  {
   "cell_type": "markdown",
   "id": "e90f6b1f",
   "metadata": {},
   "source": [
    "## Feature engineering"
   ]
  },
  {
   "cell_type": "markdown",
   "id": "e73045d2",
   "metadata": {},
   "source": [
    "## Set target and features"
   ]
  },
  {
   "cell_type": "code",
   "execution_count": null,
   "id": "7d221da9",
   "metadata": {},
   "outputs": [],
   "source": [
    "# Set the target variable (y) as the time difference in minutes\n",
    "y = data_cleaned['TimeDifference']\n",
    "\n",
    "# Set the features (X) by dropping the target column and time columns\n",
    "X = data_cleaned.drop(columns=['TimeDifference', 'ExpectedArrivalTime', 'ScheduledArrivalTime', 'RecordedAtTime'])"
   ]
  },
  {
   "cell_type": "code",
   "execution_count": null,
   "id": "762b675f",
   "metadata": {},
   "outputs": [
    {
     "name": "stdout",
     "output_type": "stream",
     "text": [
      "<class 'pandas.core.frame.DataFrame'>\n",
      "RangeIndex: 879793 entries, 0 to 879792\n",
      "Data columns (total 8 columns):\n",
      " #   Column                     Non-Null Count   Dtype  \n",
      "---  ------                     --------------   -----  \n",
      " 0   DirectionRef               879793 non-null  int64  \n",
      " 1   OriginLat                  879793 non-null  float64\n",
      " 2   OriginLong                 879793 non-null  float64\n",
      " 3   DestinationLat             879793 non-null  float64\n",
      " 4   DestinationLong            879793 non-null  float64\n",
      " 5   VehicleLocation.Latitude   879793 non-null  float64\n",
      " 6   VehicleLocation.Longitude  879793 non-null  float64\n",
      " 7   DistanceFromStop           879793 non-null  float64\n",
      "dtypes: float64(7), int64(1)\n",
      "memory usage: 53.7 MB\n",
      "<class 'pandas.core.series.Series'>\n",
      "RangeIndex: 879793 entries, 0 to 879792\n",
      "Series name: TimeDifference\n",
      "Non-Null Count   Dtype  \n",
      "--------------   -----  \n",
      "879793 non-null  float64\n",
      "dtypes: float64(1)\n",
      "memory usage: 6.7 MB\n"
     ]
    },
    {
     "data": {
      "text/plain": [
       "(None, None)"
      ]
     },
     "execution_count": 35,
     "metadata": {},
     "output_type": "execute_result"
    }
   ],
   "source": [
    "X.info(), y.info()"
   ]
  },
  {
   "cell_type": "markdown",
   "id": "cb3bc24c",
   "metadata": {},
   "source": [
    "##Feature scaling"
   ]
  },
  {
   "cell_type": "code",
   "execution_count": null,
   "id": "2e050ec2",
   "metadata": {},
   "outputs": [
    {
     "data": {
      "text/html": [
       "<div>\n",
       "<style scoped>\n",
       "    .dataframe tbody tr th:only-of-type {\n",
       "        vertical-align: middle;\n",
       "    }\n",
       "\n",
       "    .dataframe tbody tr th {\n",
       "        vertical-align: top;\n",
       "    }\n",
       "\n",
       "    .dataframe thead th {\n",
       "        text-align: right;\n",
       "    }\n",
       "</style>\n",
       "<table border=\"1\" class=\"dataframe\">\n",
       "  <thead>\n",
       "    <tr style=\"text-align: right;\">\n",
       "      <th></th>\n",
       "      <th>OriginLat</th>\n",
       "      <th>OriginLong</th>\n",
       "      <th>DestinationLat</th>\n",
       "      <th>DestinationLong</th>\n",
       "      <th>VehicleLocation.Latitude</th>\n",
       "      <th>VehicleLocation.Longitude</th>\n",
       "      <th>DistanceFromStop</th>\n",
       "    </tr>\n",
       "  </thead>\n",
       "  <tbody>\n",
       "    <tr>\n",
       "      <th>0</th>\n",
       "      <td>40.616104</td>\n",
       "      <td>-74.031143</td>\n",
       "      <td>40.656048</td>\n",
       "      <td>-73.907379</td>\n",
       "      <td>40.63517</td>\n",
       "      <td>-73.960803</td>\n",
       "      <td>76.0</td>\n",
       "    </tr>\n",
       "  </tbody>\n",
       "</table>\n",
       "</div>"
      ],
      "text/plain": [
       "   OriginLat  OriginLong  DestinationLat  DestinationLong  \\\n",
       "0  40.616104  -74.031143       40.656048       -73.907379   \n",
       "\n",
       "   VehicleLocation.Latitude  VehicleLocation.Longitude  DistanceFromStop  \n",
       "0                  40.63517                 -73.960803              76.0  "
      ]
     },
     "execution_count": 38,
     "metadata": {},
     "output_type": "execute_result"
    }
   ],
   "source": [
    "data_cleaned[['OriginLat', 'OriginLong', 'DestinationLat', 'DestinationLong',\n",
    "   'VehicleLocation.Latitude', 'VehicleLocation.Longitude', 'DistanceFromStop']].head(1)"
   ]
  },
  {
   "cell_type": "code",
   "execution_count": null,
   "id": "e3b0e92c",
   "metadata": {},
   "outputs": [
    {
     "name": "stdout",
     "output_type": "stream",
     "text": [
      "(879793, 9) (879793,)\n"
     ]
    }
   ],
   "source": [
    "# Inspect the shapes of X and y\n",
    "print(X.shape, y.shape)"
   ]
  },
  {
   "cell_type": "code",
   "execution_count": null,
   "id": "56897001",
   "metadata": {},
   "outputs": [
    {
     "data": {
      "text/html": [
       "<div>\n",
       "<style scoped>\n",
       "    .dataframe tbody tr th:only-of-type {\n",
       "        vertical-align: middle;\n",
       "    }\n",
       "\n",
       "    .dataframe tbody tr th {\n",
       "        vertical-align: top;\n",
       "    }\n",
       "\n",
       "    .dataframe thead th {\n",
       "        text-align: right;\n",
       "    }\n",
       "</style>\n",
       "<table border=\"1\" class=\"dataframe\">\n",
       "  <thead>\n",
       "    <tr style=\"text-align: right;\">\n",
       "      <th></th>\n",
       "      <th>DirectionRef</th>\n",
       "      <th>OriginLat</th>\n",
       "      <th>OriginLong</th>\n",
       "      <th>DestinationLat</th>\n",
       "      <th>DestinationLong</th>\n",
       "      <th>VehicleLocation.Latitude</th>\n",
       "      <th>VehicleLocation.Longitude</th>\n",
       "      <th>DistanceFromStop</th>\n",
       "    </tr>\n",
       "  </thead>\n",
       "  <tbody>\n",
       "    <tr>\n",
       "      <th>0</th>\n",
       "      <td>0</td>\n",
       "      <td>-1.251999</td>\n",
       "      <td>-1.060806</td>\n",
       "      <td>-0.812304</td>\n",
       "      <td>0.256746</td>\n",
       "      <td>-1.077726</td>\n",
       "      <td>-0.339322</td>\n",
       "      <td>-0.161391</td>\n",
       "    </tr>\n",
       "    <tr>\n",
       "      <th>1</th>\n",
       "      <td>0</td>\n",
       "      <td>1.606842</td>\n",
       "      <td>0.542488</td>\n",
       "      <td>2.036607</td>\n",
       "      <td>0.308471</td>\n",
       "      <td>1.809687</td>\n",
       "      <td>0.206340</td>\n",
       "      <td>-0.235902</td>\n",
       "    </tr>\n",
       "    <tr>\n",
       "      <th>2</th>\n",
       "      <td>0</td>\n",
       "      <td>-0.306310</td>\n",
       "      <td>1.367945</td>\n",
       "      <td>-0.701561</td>\n",
       "      <td>2.087055</td>\n",
       "      <td>-0.699798</td>\n",
       "      <td>2.283327</td>\n",
       "      <td>0.039054</td>\n",
       "    </tr>\n",
       "    <tr>\n",
       "      <th>3</th>\n",
       "      <td>0</td>\n",
       "      <td>0.020470</td>\n",
       "      <td>-0.627017</td>\n",
       "      <td>1.022248</td>\n",
       "      <td>-0.047726</td>\n",
       "      <td>0.737866</td>\n",
       "      <td>-0.217173</td>\n",
       "      <td>-0.164539</td>\n",
       "    </tr>\n",
       "    <tr>\n",
       "      <th>4</th>\n",
       "      <td>0</td>\n",
       "      <td>-1.682905</td>\n",
       "      <td>-0.531510</td>\n",
       "      <td>-0.957435</td>\n",
       "      <td>0.566918</td>\n",
       "      <td>-1.111246</td>\n",
       "      <td>0.142081</td>\n",
       "      <td>-0.204418</td>\n",
       "    </tr>\n",
       "  </tbody>\n",
       "</table>\n",
       "</div>"
      ],
      "text/plain": [
       "   DirectionRef  OriginLat  OriginLong  DestinationLat  DestinationLong  \\\n",
       "0             0  -1.251999   -1.060806       -0.812304         0.256746   \n",
       "1             0   1.606842    0.542488        2.036607         0.308471   \n",
       "2             0  -0.306310    1.367945       -0.701561         2.087055   \n",
       "3             0   0.020470   -0.627017        1.022248        -0.047726   \n",
       "4             0  -1.682905   -0.531510       -0.957435         0.566918   \n",
       "\n",
       "   VehicleLocation.Latitude  VehicleLocation.Longitude  DistanceFromStop  \n",
       "0                 -1.077726                  -0.339322         -0.161391  \n",
       "1                  1.809687                   0.206340         -0.235902  \n",
       "2                 -0.699798                   2.283327          0.039054  \n",
       "3                  0.737866                  -0.217173         -0.164539  \n",
       "4                 -1.111246                   0.142081         -0.204418  "
      ]
     },
     "execution_count": 37,
     "metadata": {},
     "output_type": "execute_result"
    }
   ],
   "source": [
    "X.head(5)"
   ]
  },
  {
   "cell_type": "code",
   "execution_count": null,
   "id": "1e6c561d",
   "metadata": {},
   "outputs": [
    {
     "data": {
      "text/html": [
       "<div>\n",
       "<style scoped>\n",
       "    .dataframe tbody tr th:only-of-type {\n",
       "        vertical-align: middle;\n",
       "    }\n",
       "\n",
       "    .dataframe tbody tr th {\n",
       "        vertical-align: top;\n",
       "    }\n",
       "\n",
       "    .dataframe thead th {\n",
       "        text-align: right;\n",
       "    }\n",
       "</style>\n",
       "<table border=\"1\" class=\"dataframe\">\n",
       "  <thead>\n",
       "    <tr style=\"text-align: right;\">\n",
       "      <th></th>\n",
       "      <th>count</th>\n",
       "      <th>mean</th>\n",
       "      <th>std</th>\n",
       "      <th>min</th>\n",
       "      <th>25%</th>\n",
       "      <th>50%</th>\n",
       "      <th>75%</th>\n",
       "      <th>max</th>\n",
       "    </tr>\n",
       "  </thead>\n",
       "  <tbody>\n",
       "    <tr>\n",
       "      <th>DirectionRef</th>\n",
       "      <td>879793.0</td>\n",
       "      <td>5.022443e-01</td>\n",
       "      <td>0.499995</td>\n",
       "      <td>0.000000</td>\n",
       "      <td>0.000000</td>\n",
       "      <td>1.000000</td>\n",
       "      <td>1.000000</td>\n",
       "      <td>1.000000</td>\n",
       "    </tr>\n",
       "    <tr>\n",
       "      <th>OriginLat</th>\n",
       "      <td>879793.0</td>\n",
       "      <td>-2.480779e-13</td>\n",
       "      <td>1.000001</td>\n",
       "      <td>-2.458038</td>\n",
       "      <td>-0.792272</td>\n",
       "      <td>-0.157407</td>\n",
       "      <td>0.884778</td>\n",
       "      <td>2.019341</td>\n",
       "    </tr>\n",
       "    <tr>\n",
       "      <th>OriginLong</th>\n",
       "      <td>879793.0</td>\n",
       "      <td>-2.377450e-13</td>\n",
       "      <td>1.000001</td>\n",
       "      <td>-3.364002</td>\n",
       "      <td>-0.596066</td>\n",
       "      <td>-0.012896</td>\n",
       "      <td>0.544675</td>\n",
       "      <td>2.435381</td>\n",
       "    </tr>\n",
       "    <tr>\n",
       "      <th>DestinationLat</th>\n",
       "      <td>879793.0</td>\n",
       "      <td>3.238899e-14</td>\n",
       "      <td>1.000001</td>\n",
       "      <td>-2.456579</td>\n",
       "      <td>-0.758889</td>\n",
       "      <td>-0.162305</td>\n",
       "      <td>0.888520</td>\n",
       "      <td>2.036607</td>\n",
       "    </tr>\n",
       "    <tr>\n",
       "      <th>DestinationLong</th>\n",
       "      <td>879793.0</td>\n",
       "      <td>-3.349595e-14</td>\n",
       "      <td>1.000001</td>\n",
       "      <td>-3.381805</td>\n",
       "      <td>-0.612843</td>\n",
       "      <td>-0.008950</td>\n",
       "      <td>0.566918</td>\n",
       "      <td>2.455956</td>\n",
       "    </tr>\n",
       "    <tr>\n",
       "      <th>VehicleLocation.Latitude</th>\n",
       "      <td>879793.0</td>\n",
       "      <td>-6.210434e-14</td>\n",
       "      <td>1.000001</td>\n",
       "      <td>-2.600502</td>\n",
       "      <td>-0.799080</td>\n",
       "      <td>-0.061031</td>\n",
       "      <td>0.867790</td>\n",
       "      <td>2.112771</td>\n",
       "    </tr>\n",
       "    <tr>\n",
       "      <th>VehicleLocation.Longitude</th>\n",
       "      <td>879793.0</td>\n",
       "      <td>-3.127370e-13</td>\n",
       "      <td>1.000001</td>\n",
       "      <td>-3.642747</td>\n",
       "      <td>-0.539419</td>\n",
       "      <td>-0.059658</td>\n",
       "      <td>0.538071</td>\n",
       "      <td>2.598967</td>\n",
       "    </tr>\n",
       "    <tr>\n",
       "      <th>DistanceFromStop</th>\n",
       "      <td>879793.0</td>\n",
       "      <td>-8.657739e-18</td>\n",
       "      <td>1.000001</td>\n",
       "      <td>-0.241149</td>\n",
       "      <td>-0.208616</td>\n",
       "      <td>-0.134105</td>\n",
       "      <td>-0.021814</td>\n",
       "      <td>35.025542</td>\n",
       "    </tr>\n",
       "  </tbody>\n",
       "</table>\n",
       "</div>"
      ],
      "text/plain": [
       "                              count          mean       std       min  \\\n",
       "DirectionRef               879793.0  5.022443e-01  0.499995  0.000000   \n",
       "OriginLat                  879793.0 -2.480779e-13  1.000001 -2.458038   \n",
       "OriginLong                 879793.0 -2.377450e-13  1.000001 -3.364002   \n",
       "DestinationLat             879793.0  3.238899e-14  1.000001 -2.456579   \n",
       "DestinationLong            879793.0 -3.349595e-14  1.000001 -3.381805   \n",
       "VehicleLocation.Latitude   879793.0 -6.210434e-14  1.000001 -2.600502   \n",
       "VehicleLocation.Longitude  879793.0 -3.127370e-13  1.000001 -3.642747   \n",
       "DistanceFromStop           879793.0 -8.657739e-18  1.000001 -0.241149   \n",
       "\n",
       "                                25%       50%       75%        max  \n",
       "DirectionRef               0.000000  1.000000  1.000000   1.000000  \n",
       "OriginLat                 -0.792272 -0.157407  0.884778   2.019341  \n",
       "OriginLong                -0.596066 -0.012896  0.544675   2.435381  \n",
       "DestinationLat            -0.758889 -0.162305  0.888520   2.036607  \n",
       "DestinationLong           -0.612843 -0.008950  0.566918   2.455956  \n",
       "VehicleLocation.Latitude  -0.799080 -0.061031  0.867790   2.112771  \n",
       "VehicleLocation.Longitude -0.539419 -0.059658  0.538071   2.598967  \n",
       "DistanceFromStop          -0.208616 -0.134105 -0.021814  35.025542  "
      ]
     },
     "execution_count": 39,
     "metadata": {},
     "output_type": "execute_result"
    }
   ],
   "source": [
    "X.describe().T"
   ]
  },
  {
   "cell_type": "code",
   "execution_count": null,
   "id": "f34a2c43",
   "metadata": {},
   "outputs": [],
   "source": [
    "# Scale numerical features (e.g., latitude, longitude, distance)\n",
    "scaler = StandardScaler()\n",
    "\n",
    "X[['OriginLat', 'OriginLong', 'DestinationLat', 'DestinationLong',\n",
    "   'VehicleLocation.Latitude', 'VehicleLocation.Longitude', 'DistanceFromStop']] = scaler.fit_transform(\n",
    "    X[['OriginLat', 'OriginLong', 'DestinationLat', 'DestinationLong',\n",
    "        'VehicleLocation.Latitude', 'VehicleLocation.Longitude', 'DistanceFromStop']])"
   ]
  },
  {
   "cell_type": "code",
   "execution_count": null,
   "id": "3deadec0",
   "metadata": {},
   "outputs": [
    {
     "name": "stdout",
     "output_type": "stream",
     "text": [
      "DirectionRef                 0.019258\n",
      "OriginLat                    0.062053\n",
      "OriginLong                   0.012191\n",
      "DestinationLat               0.022133\n",
      "DestinationLong             -0.011315\n",
      "VehicleLocation.Latitude     0.043596\n",
      "VehicleLocation.Longitude   -0.004639\n",
      "DistanceFromStop            -0.010169\n",
      "TimeDifference               1.000000\n",
      "Name: TimeDifference, dtype: float64\n"
     ]
    }
   ],
   "source": [
    "df_combined = pd.concat([X, y], axis=1)\n",
    "correlation_matrix = df_combined.corr()\n",
    "print(correlation_matrix['TimeDifference'])\n"
   ]
  },
  {
   "cell_type": "code",
   "execution_count": null,
   "id": "9e03d7b4",
   "metadata": {},
   "outputs": [
    {
     "name": "stdout",
     "output_type": "stream",
     "text": [
      "Correlation between DistanceFromStop and TimeDifference: -0.010168784698638108\n"
     ]
    }
   ],
   "source": [
    "correlation = data['DistanceFromStop'].corr(data['TimeDifference'])\n",
    "print(\"Correlation between DistanceFromStop and TimeDifference:\", correlation)"
   ]
  },
  {
   "cell_type": "markdown",
   "id": "8b98fd10",
   "metadata": {},
   "source": [
    "# Cyclical Encoding for timetables"
   ]
  },
  {
   "cell_type": "code",
   "execution_count": null,
   "id": "e62c2f4f",
   "metadata": {},
   "outputs": [],
   "source": [
    "def cyclical_encoding(data, column, max_val):\n",
    "    data[\"{data}_sin\"] = np.sin(2 * np.pi * data[column] / max_val)\n",
    "    data[\"{data}_cos\"] = np.cos(2 * np.pi * data[column] / max_val)\n",
    "\n",
    "    return data_cleaned\n",
    "\n",
    "data_cleaned = cyclical_encoding(data=data_cleaned, column=,)"
   ]
  },
  {
   "cell_type": "markdown",
   "id": "63ac393a",
   "metadata": {},
   "source": [
    "# Deploying baseline model"
   ]
  },
  {
   "cell_type": "code",
   "execution_count": null,
   "id": "a2f039b7",
   "metadata": {},
   "outputs": [],
   "source": [
    "X_train, X_test, y_train, y_test = train_test_split(X, y, test_size=0.2, random_state=42)"
   ]
  },
  {
   "cell_type": "code",
   "execution_count": null,
   "id": "ab8a0785",
   "metadata": {},
   "outputs": [],
   "source": []
  },
  {
   "cell_type": "code",
   "execution_count": null,
   "id": "dac51c0a",
   "metadata": {},
   "outputs": [],
   "source": []
  },
  {
   "cell_type": "code",
   "execution_count": null,
   "id": "97a71b38",
   "metadata": {},
   "outputs": [],
   "source": []
  },
  {
   "cell_type": "code",
   "execution_count": null,
   "id": "3ed67c1c",
   "metadata": {},
   "outputs": [],
   "source": []
  },
  {
   "cell_type": "code",
   "execution_count": null,
   "id": "21158ca2",
   "metadata": {},
   "outputs": [],
   "source": []
  },
  {
   "cell_type": "code",
   "execution_count": null,
   "id": "93109e37",
   "metadata": {},
   "outputs": [],
   "source": []
  }
 ],
 "metadata": {
  "kernelspec": {
   "display_name": "Smart_Public_Bus_Optimization_in_Mauritius",
   "language": "python",
   "name": "python3"
  },
  "language_info": {
   "codemirror_mode": {
    "name": "ipython",
    "version": 3
   },
   "file_extension": ".py",
   "mimetype": "text/x-python",
   "name": "python",
   "nbconvert_exporter": "python",
   "pygments_lexer": "ipython3",
   "version": "3.10.6"
  }
 },
 "nbformat": 4,
 "nbformat_minor": 5
}
