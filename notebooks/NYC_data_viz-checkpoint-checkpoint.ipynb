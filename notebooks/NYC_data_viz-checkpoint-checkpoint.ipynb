{
 "cells": [
  {
   "cell_type": "code",
   "execution_count": 1,
   "id": "65dcaf9f-d084-48e4-828c-51a8198717e8",
   "metadata": {},
   "outputs": [],
   "source": [
    "import pandas as pd\n",
    "import numpy as np\n",
    "import matplotlib.pyplot as plt\n",
    "import seaborn as sns"
   ]
  },
  {
   "cell_type": "code",
   "execution_count": 2,
   "id": "f877f1b6-eef8-4f9a-8347-096877fc8bc7",
   "metadata": {},
   "outputs": [],
   "source": [
    "%load_ext autoreload\n",
    "%autoreload 2"
   ]
  },
  {
   "cell_type": "markdown",
   "id": "eeafd923-62b5-4dcd-a0fb-f0b52e116b8e",
   "metadata": {},
   "source": [
    "# Data viz"
   ]
  },
  {
   "cell_type": "code",
   "execution_count": 3,
   "id": "c22fce0c-ad08-482a-934b-0d74956d4bf5",
   "metadata": {
    "scrolled": true
   },
   "outputs": [
    {
     "data": {
      "text/html": [
       "<div>\n",
       "<style scoped>\n",
       "    .dataframe tbody tr th:only-of-type {\n",
       "        vertical-align: middle;\n",
       "    }\n",
       "\n",
       "    .dataframe tbody tr th {\n",
       "        vertical-align: top;\n",
       "    }\n",
       "\n",
       "    .dataframe thead th {\n",
       "        text-align: right;\n",
       "    }\n",
       "</style>\n",
       "<table border=\"1\" class=\"dataframe\">\n",
       "  <thead>\n",
       "    <tr style=\"text-align: right;\">\n",
       "      <th></th>\n",
       "      <th>RecordedAtTime</th>\n",
       "      <th>DirectionRef</th>\n",
       "      <th>PublishedLineName</th>\n",
       "      <th>OriginName</th>\n",
       "      <th>OriginLat</th>\n",
       "      <th>OriginLong</th>\n",
       "      <th>DestinationName</th>\n",
       "      <th>DestinationLat</th>\n",
       "      <th>DestinationLong</th>\n",
       "      <th>VehicleRef</th>\n",
       "      <th>VehicleLocation.Latitude</th>\n",
       "      <th>VehicleLocation.Longitude</th>\n",
       "      <th>NextStopPointName</th>\n",
       "      <th>ArrivalProximityText</th>\n",
       "      <th>DistanceFromStop</th>\n",
       "      <th>ExpectedArrivalTime</th>\n",
       "      <th>ScheduledArrivalTime</th>\n",
       "    </tr>\n",
       "  </thead>\n",
       "  <tbody>\n",
       "    <tr>\n",
       "      <th>0</th>\n",
       "      <td>2017-06-01 00:03:34</td>\n",
       "      <td>0</td>\n",
       "      <td>B8</td>\n",
       "      <td>4 AV/95 ST</td>\n",
       "      <td>40.616104</td>\n",
       "      <td>-74.031143</td>\n",
       "      <td>BROWNSVILLE ROCKAWAY AV</td>\n",
       "      <td>40.656048</td>\n",
       "      <td>-73.907379</td>\n",
       "      <td>NYCT_430</td>\n",
       "      <td>40.635170</td>\n",
       "      <td>-73.960803</td>\n",
       "      <td>FOSTER AV/E 18 ST</td>\n",
       "      <td>approaching</td>\n",
       "      <td>76.0</td>\n",
       "      <td>2017-06-01 00:03:59</td>\n",
       "      <td>24:06:14</td>\n",
       "    </tr>\n",
       "    <tr>\n",
       "      <th>1</th>\n",
       "      <td>2017-06-01 00:03:43</td>\n",
       "      <td>1</td>\n",
       "      <td>S61</td>\n",
       "      <td>ST GEORGE FERRY/S61 &amp; S91</td>\n",
       "      <td>40.643169</td>\n",
       "      <td>-74.073494</td>\n",
       "      <td>S I MALL YUKON AV</td>\n",
       "      <td>40.575935</td>\n",
       "      <td>-74.167686</td>\n",
       "      <td>NYCT_8263</td>\n",
       "      <td>40.590802</td>\n",
       "      <td>-74.158340</td>\n",
       "      <td>MERRYMOUNT ST/TRAVIS AV</td>\n",
       "      <td>approaching</td>\n",
       "      <td>62.0</td>\n",
       "      <td>2017-06-01 00:03:56</td>\n",
       "      <td>23:58:02</td>\n",
       "    </tr>\n",
       "    <tr>\n",
       "      <th>2</th>\n",
       "      <td>2017-06-01 00:03:49</td>\n",
       "      <td>0</td>\n",
       "      <td>Bx10</td>\n",
       "      <td>E 206 ST/BAINBRIDGE AV</td>\n",
       "      <td>40.875008</td>\n",
       "      <td>-73.880142</td>\n",
       "      <td>RIVERDALE 263 ST</td>\n",
       "      <td>40.912376</td>\n",
       "      <td>-73.902534</td>\n",
       "      <td>NYCT_4223</td>\n",
       "      <td>40.886010</td>\n",
       "      <td>-73.912647</td>\n",
       "      <td>HENRY HUDSON PKY E/W 235 ST</td>\n",
       "      <td>at stop</td>\n",
       "      <td>5.0</td>\n",
       "      <td>2017-06-01 00:03:56</td>\n",
       "      <td>24:00:53</td>\n",
       "    </tr>\n",
       "    <tr>\n",
       "      <th>3</th>\n",
       "      <td>2017-06-01 00:03:31</td>\n",
       "      <td>0</td>\n",
       "      <td>Q5</td>\n",
       "      <td>TEARDROP/LAYOVER</td>\n",
       "      <td>40.701748</td>\n",
       "      <td>-73.802399</td>\n",
       "      <td>ROSEDALE LIRR STA via MERRICK</td>\n",
       "      <td>40.666012</td>\n",
       "      <td>-73.735939</td>\n",
       "      <td>NYCT_8422</td>\n",
       "      <td>40.668002</td>\n",
       "      <td>-73.729348</td>\n",
       "      <td>HOOK CREEK BL/SUNRISE HY</td>\n",
       "      <td>&lt; 1 stop away</td>\n",
       "      <td>267.0</td>\n",
       "      <td>2017-06-01 00:04:03</td>\n",
       "      <td>24:03:00</td>\n",
       "    </tr>\n",
       "    <tr>\n",
       "      <th>4</th>\n",
       "      <td>2017-06-01 00:03:22</td>\n",
       "      <td>1</td>\n",
       "      <td>Bx1</td>\n",
       "      <td>RIVERDALE AV/W 231 ST</td>\n",
       "      <td>40.881187</td>\n",
       "      <td>-73.909340</td>\n",
       "      <td>MOTT HAVEN 136 ST via CONCOURSE</td>\n",
       "      <td>40.809654</td>\n",
       "      <td>-73.928360</td>\n",
       "      <td>NYCT_4710</td>\n",
       "      <td>40.868134</td>\n",
       "      <td>-73.893032</td>\n",
       "      <td>GRAND CONCOURSE/E 196 ST</td>\n",
       "      <td>at stop</td>\n",
       "      <td>11.0</td>\n",
       "      <td>2017-06-01 00:03:56</td>\n",
       "      <td>23:59:38</td>\n",
       "    </tr>\n",
       "    <tr>\n",
       "      <th>5</th>\n",
       "      <td>2017-06-01 00:03:40</td>\n",
       "      <td>0</td>\n",
       "      <td>M1</td>\n",
       "      <td>4 AV/E 10 ST</td>\n",
       "      <td>40.731342</td>\n",
       "      <td>-73.990288</td>\n",
       "      <td>HARLEM 147 ST via MADISON</td>\n",
       "      <td>40.821110</td>\n",
       "      <td>-73.935898</td>\n",
       "      <td>NYCT_3831</td>\n",
       "      <td>40.792897</td>\n",
       "      <td>-73.950023</td>\n",
       "      <td>MADISON AV/E 106 ST</td>\n",
       "      <td>approaching</td>\n",
       "      <td>73.0</td>\n",
       "      <td>2017-06-01 00:03:56</td>\n",
       "      <td>24:02:35</td>\n",
       "    </tr>\n",
       "    <tr>\n",
       "      <th>6</th>\n",
       "      <td>2017-06-01 00:03:24</td>\n",
       "      <td>0</td>\n",
       "      <td>B31</td>\n",
       "      <td>GERRITSEN AV/GERRITSEN BEACH</td>\n",
       "      <td>40.587101</td>\n",
       "      <td>-73.918503</td>\n",
       "      <td>MIDWOOD KINGS HWY STA</td>\n",
       "      <td>40.608433</td>\n",
       "      <td>-73.957100</td>\n",
       "      <td>NYCT_4611</td>\n",
       "      <td>40.587024</td>\n",
       "      <td>-73.918623</td>\n",
       "      <td>GERRITSEN AV/GERRITSEN BEACH</td>\n",
       "      <td>at stop</td>\n",
       "      <td>0.0</td>\n",
       "      <td>NaN</td>\n",
       "      <td>24:08:00</td>\n",
       "    </tr>\n",
       "    <tr>\n",
       "      <th>7</th>\n",
       "      <td>2017-06-01 00:03:29</td>\n",
       "      <td>0</td>\n",
       "      <td>B83</td>\n",
       "      <td>GATEWAY CTR TERM/GATEWAY DR</td>\n",
       "      <td>40.652649</td>\n",
       "      <td>-73.877029</td>\n",
       "      <td>BWAY JCT VN SNDRN AV</td>\n",
       "      <td>40.678139</td>\n",
       "      <td>-73.903572</td>\n",
       "      <td>NYCT_4841</td>\n",
       "      <td>40.648801</td>\n",
       "      <td>-73.882682</td>\n",
       "      <td>PENNSYLVANIA AV/DELMAR LOOP N</td>\n",
       "      <td>&lt; 1 stop away</td>\n",
       "      <td>196.0</td>\n",
       "      <td>2017-06-01 00:04:13</td>\n",
       "      <td>23:58:47</td>\n",
       "    </tr>\n",
       "    <tr>\n",
       "      <th>8</th>\n",
       "      <td>2017-06-01 00:03:27</td>\n",
       "      <td>0</td>\n",
       "      <td>B82</td>\n",
       "      <td>STILLWELL TERMINAL BUS LOOP</td>\n",
       "      <td>40.577080</td>\n",
       "      <td>-73.981293</td>\n",
       "      <td>SPRING CRK TWRS SEAVIEW AV via KINGS HWY</td>\n",
       "      <td>40.642990</td>\n",
       "      <td>-73.878326</td>\n",
       "      <td>NYCT_6592</td>\n",
       "      <td>40.632258</td>\n",
       "      <td>-73.918318</td>\n",
       "      <td>FLATLANDS AV/RALPH AV</td>\n",
       "      <td>approaching</td>\n",
       "      <td>35.0</td>\n",
       "      <td>2017-06-01 00:03:56</td>\n",
       "      <td>24:00:00</td>\n",
       "    </tr>\n",
       "    <tr>\n",
       "      <th>9</th>\n",
       "      <td>2017-06-01 00:03:51</td>\n",
       "      <td>1</td>\n",
       "      <td>S59</td>\n",
       "      <td>RICHMOND TER/PARK AV #3</td>\n",
       "      <td>40.640167</td>\n",
       "      <td>-74.130966</td>\n",
       "      <td>HYLAN BL</td>\n",
       "      <td>40.534260</td>\n",
       "      <td>-74.154213</td>\n",
       "      <td>NYCT_8279</td>\n",
       "      <td>40.590689</td>\n",
       "      <td>-74.165811</td>\n",
       "      <td>RICHMOND AV/NOME AV</td>\n",
       "      <td>approaching</td>\n",
       "      <td>31.0</td>\n",
       "      <td>2017-06-01 00:03:56</td>\n",
       "      <td>24:01:14</td>\n",
       "    </tr>\n",
       "  </tbody>\n",
       "</table>\n",
       "</div>"
      ],
      "text/plain": [
       "        RecordedAtTime  DirectionRef PublishedLineName  \\\n",
       "0  2017-06-01 00:03:34             0                B8   \n",
       "1  2017-06-01 00:03:43             1               S61   \n",
       "2  2017-06-01 00:03:49             0              Bx10   \n",
       "3  2017-06-01 00:03:31             0                Q5   \n",
       "4  2017-06-01 00:03:22             1               Bx1   \n",
       "5  2017-06-01 00:03:40             0                M1   \n",
       "6  2017-06-01 00:03:24             0               B31   \n",
       "7  2017-06-01 00:03:29             0               B83   \n",
       "8  2017-06-01 00:03:27             0               B82   \n",
       "9  2017-06-01 00:03:51             1               S59   \n",
       "\n",
       "                     OriginName  OriginLat  OriginLong  \\\n",
       "0                    4 AV/95 ST  40.616104  -74.031143   \n",
       "1     ST GEORGE FERRY/S61 & S91  40.643169  -74.073494   \n",
       "2        E 206 ST/BAINBRIDGE AV  40.875008  -73.880142   \n",
       "3              TEARDROP/LAYOVER  40.701748  -73.802399   \n",
       "4         RIVERDALE AV/W 231 ST  40.881187  -73.909340   \n",
       "5                  4 AV/E 10 ST  40.731342  -73.990288   \n",
       "6  GERRITSEN AV/GERRITSEN BEACH  40.587101  -73.918503   \n",
       "7   GATEWAY CTR TERM/GATEWAY DR  40.652649  -73.877029   \n",
       "8   STILLWELL TERMINAL BUS LOOP  40.577080  -73.981293   \n",
       "9       RICHMOND TER/PARK AV #3  40.640167  -74.130966   \n",
       "\n",
       "                            DestinationName  DestinationLat  DestinationLong  \\\n",
       "0                   BROWNSVILLE ROCKAWAY AV       40.656048       -73.907379   \n",
       "1                         S I MALL YUKON AV       40.575935       -74.167686   \n",
       "2                          RIVERDALE 263 ST       40.912376       -73.902534   \n",
       "3             ROSEDALE LIRR STA via MERRICK       40.666012       -73.735939   \n",
       "4           MOTT HAVEN 136 ST via CONCOURSE       40.809654       -73.928360   \n",
       "5                 HARLEM 147 ST via MADISON       40.821110       -73.935898   \n",
       "6                     MIDWOOD KINGS HWY STA       40.608433       -73.957100   \n",
       "7                      BWAY JCT VN SNDRN AV       40.678139       -73.903572   \n",
       "8  SPRING CRK TWRS SEAVIEW AV via KINGS HWY       40.642990       -73.878326   \n",
       "9                                  HYLAN BL       40.534260       -74.154213   \n",
       "\n",
       "  VehicleRef  VehicleLocation.Latitude  VehicleLocation.Longitude  \\\n",
       "0   NYCT_430                 40.635170                 -73.960803   \n",
       "1  NYCT_8263                 40.590802                 -74.158340   \n",
       "2  NYCT_4223                 40.886010                 -73.912647   \n",
       "3  NYCT_8422                 40.668002                 -73.729348   \n",
       "4  NYCT_4710                 40.868134                 -73.893032   \n",
       "5  NYCT_3831                 40.792897                 -73.950023   \n",
       "6  NYCT_4611                 40.587024                 -73.918623   \n",
       "7  NYCT_4841                 40.648801                 -73.882682   \n",
       "8  NYCT_6592                 40.632258                 -73.918318   \n",
       "9  NYCT_8279                 40.590689                 -74.165811   \n",
       "\n",
       "               NextStopPointName ArrivalProximityText  DistanceFromStop  \\\n",
       "0              FOSTER AV/E 18 ST          approaching              76.0   \n",
       "1        MERRYMOUNT ST/TRAVIS AV          approaching              62.0   \n",
       "2    HENRY HUDSON PKY E/W 235 ST              at stop               5.0   \n",
       "3       HOOK CREEK BL/SUNRISE HY        < 1 stop away             267.0   \n",
       "4       GRAND CONCOURSE/E 196 ST              at stop              11.0   \n",
       "5            MADISON AV/E 106 ST          approaching              73.0   \n",
       "6   GERRITSEN AV/GERRITSEN BEACH              at stop               0.0   \n",
       "7  PENNSYLVANIA AV/DELMAR LOOP N        < 1 stop away             196.0   \n",
       "8          FLATLANDS AV/RALPH AV          approaching              35.0   \n",
       "9            RICHMOND AV/NOME AV          approaching              31.0   \n",
       "\n",
       "   ExpectedArrivalTime ScheduledArrivalTime  \n",
       "0  2017-06-01 00:03:59             24:06:14  \n",
       "1  2017-06-01 00:03:56             23:58:02  \n",
       "2  2017-06-01 00:03:56             24:00:53  \n",
       "3  2017-06-01 00:04:03             24:03:00  \n",
       "4  2017-06-01 00:03:56             23:59:38  \n",
       "5  2017-06-01 00:03:56             24:02:35  \n",
       "6                  NaN             24:08:00  \n",
       "7  2017-06-01 00:04:13             23:58:47  \n",
       "8  2017-06-01 00:03:56             24:00:00  \n",
       "9  2017-06-01 00:03:56             24:01:14  "
      ]
     },
     "execution_count": 3,
     "metadata": {},
     "output_type": "execute_result"
    }
   ],
   "source": [
    "file = \"../../raw_data/mta_1706.csv\"\n",
    "data = pd.read_csv(file, on_bad_lines=\"skip\")\n",
    "\n",
    "data.head(10)"
   ]
  },
  {
   "cell_type": "code",
   "execution_count": 4,
   "id": "b08baa40",
   "metadata": {},
   "outputs": [
    {
     "data": {
      "text/plain": [
       "Index(['RecordedAtTime', 'DirectionRef', 'PublishedLineName', 'OriginName',\n",
       "       'OriginLat', 'OriginLong', 'DestinationName', 'DestinationLat',\n",
       "       'DestinationLong', 'VehicleRef', 'VehicleLocation.Latitude',\n",
       "       'VehicleLocation.Longitude', 'NextStopPointName',\n",
       "       'ArrivalProximityText', 'DistanceFromStop', 'ExpectedArrivalTime',\n",
       "       'ScheduledArrivalTime'],\n",
       "      dtype='object')"
      ]
     },
     "execution_count": 4,
     "metadata": {},
     "output_type": "execute_result"
    }
   ],
   "source": [
    "data.columns"
   ]
  },
  {
   "cell_type": "code",
   "execution_count": 5,
   "id": "e9474dc7-7339-49e5-b299-2c1435db0caa",
   "metadata": {},
   "outputs": [
    {
     "name": "stdout",
     "output_type": "stream",
     "text": [
      "<class 'pandas.core.frame.DataFrame'>\n",
      "RangeIndex: 6730436 entries, 0 to 6730435\n",
      "Data columns (total 17 columns):\n",
      " #   Column                     Dtype  \n",
      "---  ------                     -----  \n",
      " 0   RecordedAtTime             object \n",
      " 1   DirectionRef               int64  \n",
      " 2   PublishedLineName          object \n",
      " 3   OriginName                 object \n",
      " 4   OriginLat                  float64\n",
      " 5   OriginLong                 float64\n",
      " 6   DestinationName            object \n",
      " 7   DestinationLat             float64\n",
      " 8   DestinationLong            float64\n",
      " 9   VehicleRef                 object \n",
      " 10  VehicleLocation.Latitude   float64\n",
      " 11  VehicleLocation.Longitude  float64\n",
      " 12  NextStopPointName          object \n",
      " 13  ArrivalProximityText       object \n",
      " 14  DistanceFromStop           float64\n",
      " 15  ExpectedArrivalTime        object \n",
      " 16  ScheduledArrivalTime       object \n",
      "dtypes: float64(7), int64(1), object(9)\n",
      "memory usage: 872.9+ MB\n"
     ]
    }
   ],
   "source": [
    "data.info()"
   ]
  },
  {
   "cell_type": "code",
   "execution_count": 6,
   "id": "22940e47-1e79-465c-857d-211b1f38dc3c",
   "metadata": {},
   "outputs": [
    {
     "data": {
      "text/plain": [
       "RecordedAtTime                object\n",
       "DirectionRef                   int64\n",
       "PublishedLineName             object\n",
       "OriginName                    object\n",
       "OriginLat                    float64\n",
       "OriginLong                   float64\n",
       "DestinationName               object\n",
       "DestinationLat               float64\n",
       "DestinationLong              float64\n",
       "VehicleRef                    object\n",
       "VehicleLocation.Latitude     float64\n",
       "VehicleLocation.Longitude    float64\n",
       "NextStopPointName             object\n",
       "ArrivalProximityText          object\n",
       "DistanceFromStop             float64\n",
       "ExpectedArrivalTime           object\n",
       "ScheduledArrivalTime          object\n",
       "dtype: object"
      ]
     },
     "execution_count": 6,
     "metadata": {},
     "output_type": "execute_result"
    }
   ],
   "source": [
    "data.dtypes"
   ]
  },
  {
   "cell_type": "markdown",
   "id": "23e4166a-df82-408e-963f-ecde6751b28d",
   "metadata": {},
   "source": [
    "# Removing DIRT"
   ]
  },
  {
   "cell_type": "markdown",
   "id": "b2ed5d61",
   "metadata": {},
   "source": [
    "## First Transform dtypes (So that \"clean_data\" can become the new \"data\" (clean_data = data) \n",
    "## (new data is copied to the newly \"corrected\" old data))"
   ]
  },
  {
   "cell_type": "code",
   "execution_count": 7,
   "id": "9789adc9-4e02-4e22-bb46-3059ec18a45a",
   "metadata": {},
   "outputs": [],
   "source": [
    "data['RecordedAtTime'] = pd.to_datetime(data['RecordedAtTime'])\n",
    "data['ExpectedArrivalTime'] = pd.to_datetime(data['ExpectedArrivalTime'])"
   ]
  },
  {
   "cell_type": "code",
   "execution_count": 8,
   "id": "c4ec9fcb",
   "metadata": {},
   "outputs": [],
   "source": [
    "# Using Vectorized Operations\n",
    "# since the db is very very large and classical python iterations is too slow.\n",
    "\n",
    "times = data['ScheduledArrivalTime'].str.split(':', expand=True)\n",
    "times = times.fillna('0').astype(float)\n",
    "hours, minutes, seconds = times[0], times[1], times[2]\n",
    "\n",
    "new_hours = np.where(hours >= 24, hours - 24, hours)\n",
    "days_to_add = np.where(hours >= 24, 1, 0)\n",
    "\n",
    "valid_rows = ~hours.isna() & ~minutes.isna() & ~seconds.isna()\n",
    "\n",
    "data.loc[valid_rows, 'ScheduledArrivalTime'] = (\n",
    "    pd.to_datetime(\n",
    "        new_hours.astype(int).astype(str) + ':' +\n",
    "        minutes.astype(int).astype(str) + ':' +\n",
    "        seconds.astype(int).astype(str),\n",
    "        format='%H:%M:%S'\n",
    "    ) + pd.to_timedelta(days_to_add[valid_rows], unit='days')\n",
    ")\n",
    "\n",
    "data.loc[~valid_rows, 'ScheduledArrivalTime'] = pd.NaT"
   ]
  },
  {
   "cell_type": "code",
   "execution_count": 9,
   "id": "9e0a7e55",
   "metadata": {},
   "outputs": [],
   "source": [
    "data['ScheduledArrivalTime'] = pd.to_datetime(data['ScheduledArrivalTime'])"
   ]
  },
  {
   "cell_type": "code",
   "execution_count": 10,
   "id": "4c7f81ce",
   "metadata": {},
   "outputs": [],
   "source": [
    "data['ScheduledArrivalTime'] = (\n",
    "    pd.to_datetime(data['RecordedAtTime'].dt.date.astype(str) + ' ' + data['ScheduledArrivalTime'].dt.time.astype(str))\n",
    ")"
   ]
  },
  {
   "cell_type": "code",
   "execution_count": 11,
   "id": "fc3d2b29-7b32-4ac7-b046-0e8273b3ead0",
   "metadata": {},
   "outputs": [],
   "source": [
    "data_cleaned = data.dropna()"
   ]
  },
  {
   "cell_type": "code",
   "execution_count": 12,
   "id": "42292f04-394e-4f21-bb4a-f50d928c4e9a",
   "metadata": {},
   "outputs": [
    {
     "data": {
      "text/plain": [
       "RecordedAtTime               0\n",
       "DirectionRef                 0\n",
       "PublishedLineName            0\n",
       "OriginName                   0\n",
       "OriginLat                    0\n",
       "OriginLong                   0\n",
       "DestinationName              0\n",
       "DestinationLat               0\n",
       "DestinationLong              0\n",
       "VehicleRef                   0\n",
       "VehicleLocation.Latitude     0\n",
       "VehicleLocation.Longitude    0\n",
       "NextStopPointName            0\n",
       "ArrivalProximityText         0\n",
       "DistanceFromStop             0\n",
       "ExpectedArrivalTime          0\n",
       "ScheduledArrivalTime         0\n",
       "dtype: int64"
      ]
     },
     "execution_count": 12,
     "metadata": {},
     "output_type": "execute_result"
    }
   ],
   "source": [
    "data_cleaned.isnull().sum()"
   ]
  },
  {
   "cell_type": "code",
   "execution_count": 13,
   "id": "6bf56988",
   "metadata": {},
   "outputs": [
    {
     "name": "stdout",
     "output_type": "stream",
     "text": [
      "0\n"
     ]
    }
   ],
   "source": [
    "print(data_cleaned['RecordedAtTime'].isna().sum())"
   ]
  },
  {
   "cell_type": "code",
   "execution_count": 14,
   "id": "40461306",
   "metadata": {},
   "outputs": [
    {
     "name": "stdout",
     "output_type": "stream",
     "text": [
      "0\n"
     ]
    }
   ],
   "source": [
    "print(data_cleaned['ExpectedArrivalTime'].isna().sum())"
   ]
  },
  {
   "cell_type": "code",
   "execution_count": 15,
   "id": "a967b636",
   "metadata": {},
   "outputs": [
    {
     "name": "stdout",
     "output_type": "stream",
     "text": [
      "RecordedAtTime               datetime64[ns]\n",
      "DirectionRef                          int64\n",
      "PublishedLineName                    object\n",
      "OriginName                           object\n",
      "OriginLat                           float64\n",
      "OriginLong                          float64\n",
      "DestinationName                      object\n",
      "DestinationLat                      float64\n",
      "DestinationLong                     float64\n",
      "VehicleRef                           object\n",
      "VehicleLocation.Latitude            float64\n",
      "VehicleLocation.Longitude           float64\n",
      "NextStopPointName                    object\n",
      "ArrivalProximityText                 object\n",
      "DistanceFromStop                    float64\n",
      "ExpectedArrivalTime          datetime64[ns]\n",
      "ScheduledArrivalTime         datetime64[ns]\n",
      "dtype: object\n"
     ]
    }
   ],
   "source": [
    "print(data_cleaned.dtypes)"
   ]
  },
  {
   "cell_type": "code",
   "execution_count": 39,
   "id": "06230374-14c5-4086-958e-d0307850b71b",
   "metadata": {
    "scrolled": true
   },
   "outputs": [
    {
     "name": "stdout",
     "output_type": "stream",
     "text": [
      "<class 'pandas.core.frame.DataFrame'>\n",
      "Index: 5804368 entries, 0 to 6730435\n",
      "Data columns (total 18 columns):\n",
      " #   Column                     Dtype         \n",
      "---  ------                     -----         \n",
      " 0   RecordedAtTime             datetime64[ns]\n",
      " 1   DirectionRef               int64         \n",
      " 2   PublishedLineName          category      \n",
      " 3   OriginName                 category      \n",
      " 4   OriginLat                  float64       \n",
      " 5   OriginLong                 float64       \n",
      " 6   DestinationName            category      \n",
      " 7   DestinationLat             float64       \n",
      " 8   DestinationLong            float64       \n",
      " 9   VehicleRef                 category      \n",
      " 10  VehicleLocation.Latitude   float64       \n",
      " 11  VehicleLocation.Longitude  float64       \n",
      " 12  NextStopPointName          category      \n",
      " 13  ArrivalProximityText       object        \n",
      " 14  DistanceFromStop           float64       \n",
      " 15  ExpectedArrivalTime        datetime64[ns]\n",
      " 16  ScheduledArrivalTime       datetime64[ns]\n",
      " 17  TimeDifference             float64       \n",
      "dtypes: category(5), datetime64[ns](3), float64(8), int64(1), object(1)\n",
      "memory usage: 675.9+ MB\n"
     ]
    }
   ],
   "source": [
    "data_cleaned.info()"
   ]
  },
  {
   "cell_type": "code",
   "execution_count": 42,
   "id": "4598d7fe",
   "metadata": {},
   "outputs": [
    {
     "name": "stdout",
     "output_type": "stream",
     "text": [
      "204298\n"
     ]
    }
   ],
   "source": [
    "print(data_cleaned[data_cleaned['ArrivalProximityText'].str.contains('miles away', na=False)].shape[0])"
   ]
  },
  {
   "cell_type": "code",
   "execution_count": 44,
   "id": "ac78889d",
   "metadata": {},
   "outputs": [
    {
     "name": "stdout",
     "output_type": "stream",
     "text": [
      "5600070\n"
     ]
    }
   ],
   "source": [
    "print(data_cleaned[data_cleaned['ArrivalProximityText'].str.contains('approaching|1 stop away|at stop', na=False)].shape[0])"
   ]
  },
  {
   "cell_type": "code",
   "execution_count": 25,
   "id": "fd713b74-2890-4af8-9d2d-a42b318def41",
   "metadata": {},
   "outputs": [
    {
     "data": {
      "text/html": [
       "<div>\n",
       "<style scoped>\n",
       "    .dataframe tbody tr th:only-of-type {\n",
       "        vertical-align: middle;\n",
       "    }\n",
       "\n",
       "    .dataframe tbody tr th {\n",
       "        vertical-align: top;\n",
       "    }\n",
       "\n",
       "    .dataframe thead th {\n",
       "        text-align: right;\n",
       "    }\n",
       "</style>\n",
       "<table border=\"1\" class=\"dataframe\">\n",
       "  <thead>\n",
       "    <tr style=\"text-align: right;\">\n",
       "      <th></th>\n",
       "      <th>RecordedAtTime</th>\n",
       "      <th>DirectionRef</th>\n",
       "      <th>PublishedLineName</th>\n",
       "      <th>OriginName</th>\n",
       "      <th>OriginLat</th>\n",
       "      <th>OriginLong</th>\n",
       "      <th>DestinationName</th>\n",
       "      <th>DestinationLat</th>\n",
       "      <th>DestinationLong</th>\n",
       "      <th>VehicleRef</th>\n",
       "      <th>VehicleLocation.Latitude</th>\n",
       "      <th>VehicleLocation.Longitude</th>\n",
       "      <th>NextStopPointName</th>\n",
       "      <th>ArrivalProximityText</th>\n",
       "      <th>DistanceFromStop</th>\n",
       "      <th>ExpectedArrivalTime</th>\n",
       "      <th>ScheduledArrivalTime</th>\n",
       "      <th>TimeDifference</th>\n",
       "    </tr>\n",
       "  </thead>\n",
       "  <tbody>\n",
       "    <tr>\n",
       "      <th>136277</th>\n",
       "      <td>2017-06-01 14:53:53</td>\n",
       "      <td>0</td>\n",
       "      <td>Q13</td>\n",
       "      <td>39 AV /138 ST</td>\n",
       "      <td>40.761009</td>\n",
       "      <td>-73.827042</td>\n",
       "      <td>FT TOTTEN</td>\n",
       "      <td>40.791351</td>\n",
       "      <td>-73.780952</td>\n",
       "      <td>NYCT_4692</td>\n",
       "      <td>40.757599</td>\n",
       "      <td>-73.781235</td>\n",
       "      <td>NORTHERN BL/202 ST</td>\n",
       "      <td>at stop</td>\n",
       "      <td>7.0</td>\n",
       "      <td>2017-06-01 14:54:11</td>\n",
       "      <td>2017-06-01 14:48:57</td>\n",
       "      <td>18.0</td>\n",
       "    </tr>\n",
       "    <tr>\n",
       "      <th>5449456</th>\n",
       "      <td>2017-06-25 18:24:13</td>\n",
       "      <td>1</td>\n",
       "      <td>B47</td>\n",
       "      <td>MARCUS GARVEY BLVD/BROADWAY</td>\n",
       "      <td>40.699574</td>\n",
       "      <td>-73.941444</td>\n",
       "      <td>KINGS PLAZA via RALPH AV</td>\n",
       "      <td>40.611008</td>\n",
       "      <td>-73.920410</td>\n",
       "      <td>NYCT_4440</td>\n",
       "      <td>40.692538</td>\n",
       "      <td>-73.927398</td>\n",
       "      <td>BROADWAY/LAFAYETTE AV</td>\n",
       "      <td>at stop</td>\n",
       "      <td>18.0</td>\n",
       "      <td>2017-06-25 18:24:40</td>\n",
       "      <td>2017-06-25 18:24:13</td>\n",
       "      <td>27.0</td>\n",
       "    </tr>\n",
       "    <tr>\n",
       "      <th>1776530</th>\n",
       "      <td>2017-06-08 19:16:38</td>\n",
       "      <td>0</td>\n",
       "      <td>Q43</td>\n",
       "      <td>ARCHER AV/SUTPHIN BL</td>\n",
       "      <td>40.700504</td>\n",
       "      <td>-73.807823</td>\n",
       "      <td>LTD FLORAL PARK 268 ST via HILLSIDE</td>\n",
       "      <td>40.738701</td>\n",
       "      <td>-73.701454</td>\n",
       "      <td>NYCT_8479</td>\n",
       "      <td>40.727082</td>\n",
       "      <td>-73.749462</td>\n",
       "      <td>HILLSIDE AV/SPRINGFIELD BL</td>\n",
       "      <td>&lt; 1 stop away</td>\n",
       "      <td>499.0</td>\n",
       "      <td>2017-06-08 19:17:44</td>\n",
       "      <td>2017-06-08 19:20:49</td>\n",
       "      <td>66.0</td>\n",
       "    </tr>\n",
       "    <tr>\n",
       "      <th>30140</th>\n",
       "      <td>2017-06-01 07:13:30</td>\n",
       "      <td>1</td>\n",
       "      <td>Bx15</td>\n",
       "      <td>3 AV/E FORDHAM RD</td>\n",
       "      <td>40.861012</td>\n",
       "      <td>-73.890450</td>\n",
       "      <td>149 ST</td>\n",
       "      <td>40.816143</td>\n",
       "      <td>-73.917549</td>\n",
       "      <td>NYCT_1206</td>\n",
       "      <td>40.860377</td>\n",
       "      <td>-73.890907</td>\n",
       "      <td>3 AV/E 188 ST</td>\n",
       "      <td>&lt; 1 stop away</td>\n",
       "      <td>153.0</td>\n",
       "      <td>2017-06-01 07:13:46</td>\n",
       "      <td>2017-06-01 07:15:13</td>\n",
       "      <td>16.0</td>\n",
       "    </tr>\n",
       "    <tr>\n",
       "      <th>5717899</th>\n",
       "      <td>2017-06-26 21:36:18</td>\n",
       "      <td>1</td>\n",
       "      <td>Q32</td>\n",
       "      <td>82 ST/NORTHERN BL</td>\n",
       "      <td>40.755196</td>\n",
       "      <td>-73.885406</td>\n",
       "      <td>MIDTOWN PENN ST</td>\n",
       "      <td>40.749435</td>\n",
       "      <td>-73.991081</td>\n",
       "      <td>NYCT_7389</td>\n",
       "      <td>40.745186</td>\n",
       "      <td>-73.908200</td>\n",
       "      <td>ROOSEVELT AV/SKILLMAN AV</td>\n",
       "      <td>approaching</td>\n",
       "      <td>60.0</td>\n",
       "      <td>2017-06-26 21:36:34</td>\n",
       "      <td>2017-06-26 21:30:25</td>\n",
       "      <td>16.0</td>\n",
       "    </tr>\n",
       "    <tr>\n",
       "      <th>...</th>\n",
       "      <td>...</td>\n",
       "      <td>...</td>\n",
       "      <td>...</td>\n",
       "      <td>...</td>\n",
       "      <td>...</td>\n",
       "      <td>...</td>\n",
       "      <td>...</td>\n",
       "      <td>...</td>\n",
       "      <td>...</td>\n",
       "      <td>...</td>\n",
       "      <td>...</td>\n",
       "      <td>...</td>\n",
       "      <td>...</td>\n",
       "      <td>...</td>\n",
       "      <td>...</td>\n",
       "      <td>...</td>\n",
       "      <td>...</td>\n",
       "      <td>...</td>\n",
       "    </tr>\n",
       "    <tr>\n",
       "      <th>4074382</th>\n",
       "      <td>2017-06-19 15:03:53</td>\n",
       "      <td>0</td>\n",
       "      <td>Bx36</td>\n",
       "      <td>W 179 ST/BROADWAY</td>\n",
       "      <td>40.849113</td>\n",
       "      <td>-73.937752</td>\n",
       "      <td>SOUNDVIEW PUGSLEY AV</td>\n",
       "      <td>40.820507</td>\n",
       "      <td>-73.851631</td>\n",
       "      <td>NYCT_7757</td>\n",
       "      <td>40.820521</td>\n",
       "      <td>-73.851537</td>\n",
       "      <td>OLMSTEAD AV/SEWARD AV</td>\n",
       "      <td>at stop</td>\n",
       "      <td>0.0</td>\n",
       "      <td>2017-06-19 15:04:12</td>\n",
       "      <td>2017-06-19 14:53:00</td>\n",
       "      <td>19.0</td>\n",
       "    </tr>\n",
       "    <tr>\n",
       "      <th>4502619</th>\n",
       "      <td>2017-06-21 10:26:37</td>\n",
       "      <td>0</td>\n",
       "      <td>Bx5</td>\n",
       "      <td>SOUTHERN BL/WESTCHESTER AV</td>\n",
       "      <td>40.823673</td>\n",
       "      <td>-73.891945</td>\n",
       "      <td>PELHAM BAY</td>\n",
       "      <td>40.852879</td>\n",
       "      <td>-73.826874</td>\n",
       "      <td>NYCT_4788</td>\n",
       "      <td>40.832728</td>\n",
       "      <td>-73.828573</td>\n",
       "      <td>BRUCKNER BL/E TREMONT AV</td>\n",
       "      <td>approaching</td>\n",
       "      <td>95.0</td>\n",
       "      <td>2017-06-21 10:26:58</td>\n",
       "      <td>2017-06-21 10:30:00</td>\n",
       "      <td>21.0</td>\n",
       "    </tr>\n",
       "    <tr>\n",
       "      <th>2160871</th>\n",
       "      <td>2017-06-10 15:09:12</td>\n",
       "      <td>1</td>\n",
       "      <td>S59</td>\n",
       "      <td>RICHMOND TER/PARK AV #3</td>\n",
       "      <td>40.640167</td>\n",
       "      <td>-74.130966</td>\n",
       "      <td>HYLAN BL</td>\n",
       "      <td>40.533890</td>\n",
       "      <td>-74.153862</td>\n",
       "      <td>NYCT_8307</td>\n",
       "      <td>40.565300</td>\n",
       "      <td>-74.169804</td>\n",
       "      <td>ELTINGVILLE/TRANSIT CENTER</td>\n",
       "      <td>&lt; 1 stop away</td>\n",
       "      <td>640.0</td>\n",
       "      <td>2017-06-10 15:11:15</td>\n",
       "      <td>2017-06-10 14:49:00</td>\n",
       "      <td>123.0</td>\n",
       "    </tr>\n",
       "    <tr>\n",
       "      <th>6586494</th>\n",
       "      <td>2017-06-30 12:22:19</td>\n",
       "      <td>1</td>\n",
       "      <td>B15</td>\n",
       "      <td>JFK AIRPORT/TERMINAL 5 AirTrain STATION</td>\n",
       "      <td>40.647278</td>\n",
       "      <td>-73.779633</td>\n",
       "      <td>BED-STUY WOODHULL HOSP</td>\n",
       "      <td>40.699776</td>\n",
       "      <td>-73.941505</td>\n",
       "      <td>NYCT_6819</td>\n",
       "      <td>40.664156</td>\n",
       "      <td>-73.822870</td>\n",
       "      <td>N. conduit av/cohancy st</td>\n",
       "      <td>&lt; 1 stop away</td>\n",
       "      <td>205.0</td>\n",
       "      <td>2017-06-30 12:22:58</td>\n",
       "      <td>2017-06-30 12:22:07</td>\n",
       "      <td>39.0</td>\n",
       "    </tr>\n",
       "    <tr>\n",
       "      <th>4367185</th>\n",
       "      <td>2017-06-20 18:25:30</td>\n",
       "      <td>0</td>\n",
       "      <td>Bx35</td>\n",
       "      <td>W 179 ST/BROADWAY</td>\n",
       "      <td>40.848953</td>\n",
       "      <td>-73.936874</td>\n",
       "      <td>W FARMS RD SOUTHERN BL</td>\n",
       "      <td>40.825405</td>\n",
       "      <td>-73.891319</td>\n",
       "      <td>NYCT_7811</td>\n",
       "      <td>40.831833</td>\n",
       "      <td>-73.908224</td>\n",
       "      <td>E 168 ST/3 AV</td>\n",
       "      <td>&lt; 1 stop away</td>\n",
       "      <td>204.0</td>\n",
       "      <td>2017-06-20 18:27:11</td>\n",
       "      <td>2017-06-20 17:45:00</td>\n",
       "      <td>101.0</td>\n",
       "    </tr>\n",
       "  </tbody>\n",
       "</table>\n",
       "<p>100 rows × 18 columns</p>\n",
       "</div>"
      ],
      "text/plain": [
       "             RecordedAtTime  DirectionRef PublishedLineName  \\\n",
       "136277  2017-06-01 14:53:53             0               Q13   \n",
       "5449456 2017-06-25 18:24:13             1               B47   \n",
       "1776530 2017-06-08 19:16:38             0               Q43   \n",
       "30140   2017-06-01 07:13:30             1              Bx15   \n",
       "5717899 2017-06-26 21:36:18             1               Q32   \n",
       "...                     ...           ...               ...   \n",
       "4074382 2017-06-19 15:03:53             0              Bx36   \n",
       "4502619 2017-06-21 10:26:37             0               Bx5   \n",
       "2160871 2017-06-10 15:09:12             1               S59   \n",
       "6586494 2017-06-30 12:22:19             1               B15   \n",
       "4367185 2017-06-20 18:25:30             0              Bx35   \n",
       "\n",
       "                                      OriginName  OriginLat  OriginLong  \\\n",
       "136277                             39 AV /138 ST  40.761009  -73.827042   \n",
       "5449456              MARCUS GARVEY BLVD/BROADWAY  40.699574  -73.941444   \n",
       "1776530                     ARCHER AV/SUTPHIN BL  40.700504  -73.807823   \n",
       "30140                          3 AV/E FORDHAM RD  40.861012  -73.890450   \n",
       "5717899                        82 ST/NORTHERN BL  40.755196  -73.885406   \n",
       "...                                          ...        ...         ...   \n",
       "4074382                        W 179 ST/BROADWAY  40.849113  -73.937752   \n",
       "4502619               SOUTHERN BL/WESTCHESTER AV  40.823673  -73.891945   \n",
       "2160871                  RICHMOND TER/PARK AV #3  40.640167  -74.130966   \n",
       "6586494  JFK AIRPORT/TERMINAL 5 AirTrain STATION  40.647278  -73.779633   \n",
       "4367185                        W 179 ST/BROADWAY  40.848953  -73.936874   \n",
       "\n",
       "                             DestinationName  DestinationLat  DestinationLong  \\\n",
       "136277                             FT TOTTEN       40.791351       -73.780952   \n",
       "5449456             KINGS PLAZA via RALPH AV       40.611008       -73.920410   \n",
       "1776530  LTD FLORAL PARK 268 ST via HILLSIDE       40.738701       -73.701454   \n",
       "30140                                 149 ST       40.816143       -73.917549   \n",
       "5717899                      MIDTOWN PENN ST       40.749435       -73.991081   \n",
       "...                                      ...             ...              ...   \n",
       "4074382                 SOUNDVIEW PUGSLEY AV       40.820507       -73.851631   \n",
       "4502619                           PELHAM BAY       40.852879       -73.826874   \n",
       "2160871                             HYLAN BL       40.533890       -74.153862   \n",
       "6586494               BED-STUY WOODHULL HOSP       40.699776       -73.941505   \n",
       "4367185               W FARMS RD SOUTHERN BL       40.825405       -73.891319   \n",
       "\n",
       "        VehicleRef  VehicleLocation.Latitude  VehicleLocation.Longitude  \\\n",
       "136277   NYCT_4692                 40.757599                 -73.781235   \n",
       "5449456  NYCT_4440                 40.692538                 -73.927398   \n",
       "1776530  NYCT_8479                 40.727082                 -73.749462   \n",
       "30140    NYCT_1206                 40.860377                 -73.890907   \n",
       "5717899  NYCT_7389                 40.745186                 -73.908200   \n",
       "...            ...                       ...                        ...   \n",
       "4074382  NYCT_7757                 40.820521                 -73.851537   \n",
       "4502619  NYCT_4788                 40.832728                 -73.828573   \n",
       "2160871  NYCT_8307                 40.565300                 -74.169804   \n",
       "6586494  NYCT_6819                 40.664156                 -73.822870   \n",
       "4367185  NYCT_7811                 40.831833                 -73.908224   \n",
       "\n",
       "                  NextStopPointName ArrivalProximityText  DistanceFromStop  \\\n",
       "136277           NORTHERN BL/202 ST              at stop               7.0   \n",
       "5449456       BROADWAY/LAFAYETTE AV              at stop              18.0   \n",
       "1776530  HILLSIDE AV/SPRINGFIELD BL        < 1 stop away             499.0   \n",
       "30140                 3 AV/E 188 ST        < 1 stop away             153.0   \n",
       "5717899    ROOSEVELT AV/SKILLMAN AV          approaching              60.0   \n",
       "...                             ...                  ...               ...   \n",
       "4074382       OLMSTEAD AV/SEWARD AV              at stop               0.0   \n",
       "4502619    BRUCKNER BL/E TREMONT AV          approaching              95.0   \n",
       "2160871  ELTINGVILLE/TRANSIT CENTER        < 1 stop away             640.0   \n",
       "6586494    N. conduit av/cohancy st        < 1 stop away             205.0   \n",
       "4367185               E 168 ST/3 AV        < 1 stop away             204.0   \n",
       "\n",
       "        ExpectedArrivalTime ScheduledArrivalTime  TimeDifference  \n",
       "136277  2017-06-01 14:54:11  2017-06-01 14:48:57            18.0  \n",
       "5449456 2017-06-25 18:24:40  2017-06-25 18:24:13            27.0  \n",
       "1776530 2017-06-08 19:17:44  2017-06-08 19:20:49            66.0  \n",
       "30140   2017-06-01 07:13:46  2017-06-01 07:15:13            16.0  \n",
       "5717899 2017-06-26 21:36:34  2017-06-26 21:30:25            16.0  \n",
       "...                     ...                  ...             ...  \n",
       "4074382 2017-06-19 15:04:12  2017-06-19 14:53:00            19.0  \n",
       "4502619 2017-06-21 10:26:58  2017-06-21 10:30:00            21.0  \n",
       "2160871 2017-06-10 15:11:15  2017-06-10 14:49:00           123.0  \n",
       "6586494 2017-06-30 12:22:58  2017-06-30 12:22:07            39.0  \n",
       "4367185 2017-06-20 18:27:11  2017-06-20 17:45:00           101.0  \n",
       "\n",
       "[100 rows x 18 columns]"
      ]
     },
     "execution_count": 25,
     "metadata": {},
     "output_type": "execute_result"
    }
   ],
   "source": [
    "data_cleaned.sample(100)"
   ]
  },
  {
   "cell_type": "code",
   "execution_count": 18,
   "id": "f81064f9-38c7-4d14-b84d-330db65924d4",
   "metadata": {},
   "outputs": [
    {
     "data": {
      "text/plain": [
       "6730436"
      ]
     },
     "execution_count": 18,
     "metadata": {},
     "output_type": "execute_result"
    }
   ],
   "source": [
    "data_sumofrows = len(data)\n",
    "data_sumofrows"
   ]
  },
  {
   "cell_type": "code",
   "execution_count": 19,
   "id": "9765a20e-5fdd-47d2-8be2-f91700d0bc24",
   "metadata": {},
   "outputs": [
    {
     "data": {
      "text/plain": [
       "5804368"
      ]
     },
     "execution_count": 19,
     "metadata": {},
     "output_type": "execute_result"
    }
   ],
   "source": [
    "data_cleaned_sumofrows = len(data_cleaned)\n",
    "data_cleaned_sumofrows"
   ]
  },
  {
   "cell_type": "code",
   "execution_count": 20,
   "id": "9c8a6c54-9582-4cd6-ba8a-45bb0c6c7e32",
   "metadata": {},
   "outputs": [
    {
     "name": "stdout",
     "output_type": "stream",
     "text": [
      "Number of rows deleted after data has been cleaned (no more Na values): 926068\n"
     ]
    }
   ],
   "source": [
    "total_rows_after_clean = data_sumofrows - data_cleaned_sumofrows\n",
    "\n",
    "print(f'Number of rows deleted after data has been cleaned (no more Na values): {total_rows_after_clean}')"
   ]
  },
  {
   "cell_type": "code",
   "execution_count": 40,
   "id": "646f31e8-b095-4acf-9131-2d9eb5dad59f",
   "metadata": {},
   "outputs": [
    {
     "data": {
      "text/plain": [
       "np.int64(0)"
      ]
     },
     "execution_count": 40,
     "metadata": {},
     "output_type": "execute_result"
    }
   ],
   "source": [
    "data_cleaned.duplicated().sum()"
   ]
  },
  {
   "cell_type": "markdown",
   "id": "81bb3d43",
   "metadata": {},
   "source": [
    "### Automated dtype change (for either category or string depending the cardinality (ie: 10%))"
   ]
  },
  {
   "cell_type": "code",
   "execution_count": 35,
   "id": "7065334f",
   "metadata": {},
   "outputs": [
    {
     "name": "stdout",
     "output_type": "stream",
     "text": [
      "category\n"
     ]
    },
    {
     "name": "stderr",
     "output_type": "stream",
     "text": [
      "/tmp/ipykernel_219309/619669264.py:2: SettingWithCopyWarning: \n",
      "A value is trying to be set on a copy of a slice from a DataFrame.\n",
      "Try using .loc[row_indexer,col_indexer] = value instead\n",
      "\n",
      "See the caveats in the documentation: https://pandas.pydata.org/pandas-docs/stable/user_guide/indexing.html#returning-a-view-versus-a-copy\n",
      "  data_cleaned['VehicleRef'] = data_cleaned['VehicleRef'].astype('category')\n"
     ]
    }
   ],
   "source": [
    "if data_cleaned['VehicleRef'].nunique() / len(data_cleaned['VehicleRef']) < 0.1:\n",
    "    data_cleaned['VehicleRef'] = data_cleaned['VehicleRef'].astype('category')\n",
    "else:\n",
    "    data_cleaned['VehicleRef'] = data_cleaned['VehicleRef'].astype('string')\n",
    "\n",
    "print(data_cleaned['VehicleRef'].dtype)"
   ]
  },
  {
   "cell_type": "markdown",
   "id": "a6fe3fe1-27cb-44de-a716-de5f2dbf1109",
   "metadata": {},
   "source": [
    "## Cheking for outsiders / Inconsistent data"
   ]
  },
  {
   "cell_type": "code",
   "execution_count": 22,
   "id": "8d18c414-5109-454b-989b-06cedfd55a98",
   "metadata": {},
   "outputs": [
    {
     "name": "stderr",
     "output_type": "stream",
     "text": [
      "/tmp/ipykernel_219309/4172669316.py:1: SettingWithCopyWarning: \n",
      "A value is trying to be set on a copy of a slice from a DataFrame.\n",
      "Try using .loc[row_indexer,col_indexer] = value instead\n",
      "\n",
      "See the caveats in the documentation: https://pandas.pydata.org/pandas-docs/stable/user_guide/indexing.html#returning-a-view-versus-a-copy\n",
      "  data_cleaned['TimeDifference'] = (data_cleaned['ExpectedArrivalTime'] - data_cleaned['RecordedAtTime']).dt.total_seconds()\n"
     ]
    },
    {
     "data": {
      "image/png": "[encoded data removed]",
      "text/plain": [
       "<Figure size 1000x600 with 1 Axes>"
      ]
     },
     "metadata": {},
     "output_type": "display_data"
    }
   ],
   "source": [
    "data_cleaned['TimeDifference'] = (data_cleaned['ExpectedArrivalTime'] - data_cleaned['RecordedAtTime']).dt.total_seconds()\n",
    "subset_data = data_cleaned.sample(n=10000, random_state=42)\n",
    "\n",
    "plt.figure(figsize=(10, 6))\n",
    "sns.scatterplot(data=subset_data, x='DistanceFromStop', y='TimeDifference')\n",
    "plt.title(\"Scatter Plot of Time Difference vs Distance From Stop\")\n",
    "plt.xlabel(\"Distance From Stop\")\n",
    "plt.ylabel(\"Time Difference (seconds)\")\n",
    "plt.xticks(rotation=45)\n",
    "plt.tight_layout()\n",
    "plt.show()"
   ]
  },
  {
   "cell_type": "code",
   "execution_count": 23,
   "id": "e0786f68",
   "metadata": {},
   "outputs": [
    {
     "name": "stdout",
     "output_type": "stream",
     "text": [
      "Correlation between DistanceFromStop and TimeDifference: 0.8505418474638499\n"
     ]
    }
   ],
   "source": [
    "correlation = data_cleaned['DistanceFromStop'].corr(data_cleaned['TimeDifference'])\n",
    "print(\"Correlation between DistanceFromStop and TimeDifference:\", correlation)"
   ]
  },
  {
   "cell_type": "code",
   "execution_count": 38,
   "id": "d5a55409",
   "metadata": {},
   "outputs": [
    {
     "ename": "ValueError",
     "evalue": "could not convert string to float: 'NYCT_430'",
     "output_type": "error",
     "traceback": [
      "\u001b[0;31m---------------------------------------------------------------------------\u001b[0m",
      "\u001b[0;31mValueError\u001b[0m                                Traceback (most recent call last)",
      "Cell \u001b[0;32mIn[38], line 1\u001b[0m\n\u001b[0;32m----> 1\u001b[0m correlation_matrix \u001b[38;5;241m=\u001b[39m \u001b[43mdata_cleaned\u001b[49m\u001b[38;5;241;43m.\u001b[39;49m\u001b[43mcorr\u001b[49m\u001b[43m(\u001b[49m\u001b[43m)\u001b[49m\n\u001b[1;32m      2\u001b[0m plt\u001b[38;5;241m.\u001b[39mfigure(figsize\u001b[38;5;241m=\u001b[39m(\u001b[38;5;241m10\u001b[39m, \u001b[38;5;241m8\u001b[39m))\n\u001b[1;32m      3\u001b[0m sns\u001b[38;5;241m.\u001b[39mheatmap(correlation_matrix, annot\u001b[38;5;241m=\u001b[39m\u001b[38;5;28;01mTrue\u001b[39;00m, cmap\u001b[38;5;241m=\u001b[39m\u001b[38;5;124m'\u001b[39m\u001b[38;5;124mcoolwarm\u001b[39m\u001b[38;5;124m'\u001b[39m, fmt\u001b[38;5;241m=\u001b[39m\u001b[38;5;124m\"\u001b[39m\u001b[38;5;124m.2f\u001b[39m\u001b[38;5;124m\"\u001b[39m)\n",
      "File \u001b[0;32m~/.pyenv/versions/Smart_Public_Bus_Optimization_in_Mauritius/lib/python3.10/site-packages/pandas/core/frame.py:11049\u001b[0m, in \u001b[0;36mDataFrame.corr\u001b[0;34m(self, method, min_periods, numeric_only)\u001b[0m\n\u001b[1;32m  11047\u001b[0m cols \u001b[38;5;241m=\u001b[39m data\u001b[38;5;241m.\u001b[39mcolumns\n\u001b[1;32m  11048\u001b[0m idx \u001b[38;5;241m=\u001b[39m cols\u001b[38;5;241m.\u001b[39mcopy()\n\u001b[0;32m> 11049\u001b[0m mat \u001b[38;5;241m=\u001b[39m \u001b[43mdata\u001b[49m\u001b[38;5;241;43m.\u001b[39;49m\u001b[43mto_numpy\u001b[49m\u001b[43m(\u001b[49m\u001b[43mdtype\u001b[49m\u001b[38;5;241;43m=\u001b[39;49m\u001b[38;5;28;43mfloat\u001b[39;49m\u001b[43m,\u001b[49m\u001b[43m \u001b[49m\u001b[43mna_value\u001b[49m\u001b[38;5;241;43m=\u001b[39;49m\u001b[43mnp\u001b[49m\u001b[38;5;241;43m.\u001b[39;49m\u001b[43mnan\u001b[49m\u001b[43m,\u001b[49m\u001b[43m \u001b[49m\u001b[43mcopy\u001b[49m\u001b[38;5;241;43m=\u001b[39;49m\u001b[38;5;28;43;01mFalse\u001b[39;49;00m\u001b[43m)\u001b[49m\n\u001b[1;32m  11051\u001b[0m \u001b[38;5;28;01mif\u001b[39;00m method \u001b[38;5;241m==\u001b[39m \u001b[38;5;124m\"\u001b[39m\u001b[38;5;124mpearson\u001b[39m\u001b[38;5;124m\"\u001b[39m:\n\u001b[1;32m  11052\u001b[0m     correl \u001b[38;5;241m=\u001b[39m libalgos\u001b[38;5;241m.\u001b[39mnancorr(mat, minp\u001b[38;5;241m=\u001b[39mmin_periods)\n",
      "File \u001b[0;32m~/.pyenv/versions/Smart_Public_Bus_Optimization_in_Mauritius/lib/python3.10/site-packages/pandas/core/frame.py:1993\u001b[0m, in \u001b[0;36mDataFrame.to_numpy\u001b[0;34m(self, dtype, copy, na_value)\u001b[0m\n\u001b[1;32m   1991\u001b[0m \u001b[38;5;28;01mif\u001b[39;00m dtype \u001b[38;5;129;01mis\u001b[39;00m \u001b[38;5;129;01mnot\u001b[39;00m \u001b[38;5;28;01mNone\u001b[39;00m:\n\u001b[1;32m   1992\u001b[0m     dtype \u001b[38;5;241m=\u001b[39m np\u001b[38;5;241m.\u001b[39mdtype(dtype)\n\u001b[0;32m-> 1993\u001b[0m result \u001b[38;5;241m=\u001b[39m \u001b[38;5;28;43mself\u001b[39;49m\u001b[38;5;241;43m.\u001b[39;49m\u001b[43m_mgr\u001b[49m\u001b[38;5;241;43m.\u001b[39;49m\u001b[43mas_array\u001b[49m\u001b[43m(\u001b[49m\u001b[43mdtype\u001b[49m\u001b[38;5;241;43m=\u001b[39;49m\u001b[43mdtype\u001b[49m\u001b[43m,\u001b[49m\u001b[43m \u001b[49m\u001b[43mcopy\u001b[49m\u001b[38;5;241;43m=\u001b[39;49m\u001b[43mcopy\u001b[49m\u001b[43m,\u001b[49m\u001b[43m \u001b[49m\u001b[43mna_value\u001b[49m\u001b[38;5;241;43m=\u001b[39;49m\u001b[43mna_value\u001b[49m\u001b[43m)\u001b[49m\n\u001b[1;32m   1994\u001b[0m \u001b[38;5;28;01mif\u001b[39;00m result\u001b[38;5;241m.\u001b[39mdtype \u001b[38;5;129;01mis\u001b[39;00m \u001b[38;5;129;01mnot\u001b[39;00m dtype:\n\u001b[1;32m   1995\u001b[0m     result \u001b[38;5;241m=\u001b[39m np\u001b[38;5;241m.\u001b[39masarray(result, dtype\u001b[38;5;241m=\u001b[39mdtype)\n",
      "File \u001b[0;32m~/.pyenv/versions/Smart_Public_Bus_Optimization_in_Mauritius/lib/python3.10/site-packages/pandas/core/internals/managers.py:1694\u001b[0m, in \u001b[0;36mBlockManager.as_array\u001b[0;34m(self, dtype, copy, na_value)\u001b[0m\n\u001b[1;32m   1692\u001b[0m         arr\u001b[38;5;241m.\u001b[39mflags\u001b[38;5;241m.\u001b[39mwriteable \u001b[38;5;241m=\u001b[39m \u001b[38;5;28;01mFalse\u001b[39;00m\n\u001b[1;32m   1693\u001b[0m \u001b[38;5;28;01melse\u001b[39;00m:\n\u001b[0;32m-> 1694\u001b[0m     arr \u001b[38;5;241m=\u001b[39m \u001b[38;5;28;43mself\u001b[39;49m\u001b[38;5;241;43m.\u001b[39;49m\u001b[43m_interleave\u001b[49m\u001b[43m(\u001b[49m\u001b[43mdtype\u001b[49m\u001b[38;5;241;43m=\u001b[39;49m\u001b[43mdtype\u001b[49m\u001b[43m,\u001b[49m\u001b[43m \u001b[49m\u001b[43mna_value\u001b[49m\u001b[38;5;241;43m=\u001b[39;49m\u001b[43mna_value\u001b[49m\u001b[43m)\u001b[49m\n\u001b[1;32m   1695\u001b[0m     \u001b[38;5;66;03m# The underlying data was copied within _interleave, so no need\u001b[39;00m\n\u001b[1;32m   1696\u001b[0m     \u001b[38;5;66;03m# to further copy if copy=True or setting na_value\u001b[39;00m\n\u001b[1;32m   1698\u001b[0m \u001b[38;5;28;01mif\u001b[39;00m na_value \u001b[38;5;129;01mis\u001b[39;00m lib\u001b[38;5;241m.\u001b[39mno_default:\n",
      "File \u001b[0;32m~/.pyenv/versions/Smart_Public_Bus_Optimization_in_Mauritius/lib/python3.10/site-packages/pandas/core/internals/managers.py:1747\u001b[0m, in \u001b[0;36mBlockManager._interleave\u001b[0;34m(self, dtype, na_value)\u001b[0m\n\u001b[1;32m   1741\u001b[0m rl \u001b[38;5;241m=\u001b[39m blk\u001b[38;5;241m.\u001b[39mmgr_locs\n\u001b[1;32m   1742\u001b[0m \u001b[38;5;28;01mif\u001b[39;00m blk\u001b[38;5;241m.\u001b[39mis_extension:\n\u001b[1;32m   1743\u001b[0m     \u001b[38;5;66;03m# Avoid implicit conversion of extension blocks to object\u001b[39;00m\n\u001b[1;32m   1744\u001b[0m \n\u001b[1;32m   1745\u001b[0m     \u001b[38;5;66;03m# error: Item \"ndarray\" of \"Union[ndarray, ExtensionArray]\" has no\u001b[39;00m\n\u001b[1;32m   1746\u001b[0m     \u001b[38;5;66;03m# attribute \"to_numpy\"\u001b[39;00m\n\u001b[0;32m-> 1747\u001b[0m     arr \u001b[38;5;241m=\u001b[39m \u001b[43mblk\u001b[49m\u001b[38;5;241;43m.\u001b[39;49m\u001b[43mvalues\u001b[49m\u001b[38;5;241;43m.\u001b[39;49m\u001b[43mto_numpy\u001b[49m\u001b[43m(\u001b[49m\u001b[43m  \u001b[49m\u001b[38;5;66;43;03m# type: ignore[union-attr]\u001b[39;49;00m\n\u001b[1;32m   1748\u001b[0m \u001b[43m        \u001b[49m\u001b[43mdtype\u001b[49m\u001b[38;5;241;43m=\u001b[39;49m\u001b[43mdtype\u001b[49m\u001b[43m,\u001b[49m\n\u001b[1;32m   1749\u001b[0m \u001b[43m        \u001b[49m\u001b[43mna_value\u001b[49m\u001b[38;5;241;43m=\u001b[39;49m\u001b[43mna_value\u001b[49m\u001b[43m,\u001b[49m\n\u001b[1;32m   1750\u001b[0m \u001b[43m    \u001b[49m\u001b[43m)\u001b[49m\n\u001b[1;32m   1751\u001b[0m \u001b[38;5;28;01melse\u001b[39;00m:\n\u001b[1;32m   1752\u001b[0m     arr \u001b[38;5;241m=\u001b[39m blk\u001b[38;5;241m.\u001b[39mget_values(dtype)\n",
      "File \u001b[0;32m~/.pyenv/versions/Smart_Public_Bus_Optimization_in_Mauritius/lib/python3.10/site-packages/pandas/core/arrays/base.py:568\u001b[0m, in \u001b[0;36mExtensionArray.to_numpy\u001b[0;34m(self, dtype, copy, na_value)\u001b[0m\n\u001b[1;32m    539\u001b[0m \u001b[38;5;28;01mdef\u001b[39;00m \u001b[38;5;21mto_numpy\u001b[39m(\n\u001b[1;32m    540\u001b[0m     \u001b[38;5;28mself\u001b[39m,\n\u001b[1;32m    541\u001b[0m     dtype: npt\u001b[38;5;241m.\u001b[39mDTypeLike \u001b[38;5;241m|\u001b[39m \u001b[38;5;28;01mNone\u001b[39;00m \u001b[38;5;241m=\u001b[39m \u001b[38;5;28;01mNone\u001b[39;00m,\n\u001b[1;32m    542\u001b[0m     copy: \u001b[38;5;28mbool\u001b[39m \u001b[38;5;241m=\u001b[39m \u001b[38;5;28;01mFalse\u001b[39;00m,\n\u001b[1;32m    543\u001b[0m     na_value: \u001b[38;5;28mobject\u001b[39m \u001b[38;5;241m=\u001b[39m lib\u001b[38;5;241m.\u001b[39mno_default,\n\u001b[1;32m    544\u001b[0m ) \u001b[38;5;241m-\u001b[39m\u001b[38;5;241m>\u001b[39m np\u001b[38;5;241m.\u001b[39mndarray:\n\u001b[1;32m    545\u001b[0m \u001b[38;5;250m    \u001b[39m\u001b[38;5;124;03m\"\"\"\u001b[39;00m\n\u001b[1;32m    546\u001b[0m \u001b[38;5;124;03m    Convert to a NumPy ndarray.\u001b[39;00m\n\u001b[1;32m    547\u001b[0m \n\u001b[0;32m   (...)\u001b[0m\n\u001b[1;32m    566\u001b[0m \u001b[38;5;124;03m    numpy.ndarray\u001b[39;00m\n\u001b[1;32m    567\u001b[0m \u001b[38;5;124;03m    \"\"\"\u001b[39;00m\n\u001b[0;32m--> 568\u001b[0m     result \u001b[38;5;241m=\u001b[39m \u001b[43mnp\u001b[49m\u001b[38;5;241;43m.\u001b[39;49m\u001b[43masarray\u001b[49m\u001b[43m(\u001b[49m\u001b[38;5;28;43mself\u001b[39;49m\u001b[43m,\u001b[49m\u001b[43m \u001b[49m\u001b[43mdtype\u001b[49m\u001b[38;5;241;43m=\u001b[39;49m\u001b[43mdtype\u001b[49m\u001b[43m)\u001b[49m\n\u001b[1;32m    569\u001b[0m     \u001b[38;5;28;01mif\u001b[39;00m copy \u001b[38;5;129;01mor\u001b[39;00m na_value \u001b[38;5;129;01mis\u001b[39;00m \u001b[38;5;129;01mnot\u001b[39;00m lib\u001b[38;5;241m.\u001b[39mno_default:\n\u001b[1;32m    570\u001b[0m         result \u001b[38;5;241m=\u001b[39m result\u001b[38;5;241m.\u001b[39mcopy()\n",
      "File \u001b[0;32m~/.pyenv/versions/Smart_Public_Bus_Optimization_in_Mauritius/lib/python3.10/site-packages/pandas/core/arrays/_mixins.py:81\u001b[0m, in \u001b[0;36mravel_compat.<locals>.method\u001b[0;34m(self, *args, **kwargs)\u001b[0m\n\u001b[1;32m     78\u001b[0m \u001b[38;5;129m@wraps\u001b[39m(meth)\n\u001b[1;32m     79\u001b[0m \u001b[38;5;28;01mdef\u001b[39;00m \u001b[38;5;21mmethod\u001b[39m(\u001b[38;5;28mself\u001b[39m, \u001b[38;5;241m*\u001b[39margs, \u001b[38;5;241m*\u001b[39m\u001b[38;5;241m*\u001b[39mkwargs):\n\u001b[1;32m     80\u001b[0m     \u001b[38;5;28;01mif\u001b[39;00m \u001b[38;5;28mself\u001b[39m\u001b[38;5;241m.\u001b[39mndim \u001b[38;5;241m==\u001b[39m \u001b[38;5;241m1\u001b[39m:\n\u001b[0;32m---> 81\u001b[0m         \u001b[38;5;28;01mreturn\u001b[39;00m \u001b[43mmeth\u001b[49m\u001b[43m(\u001b[49m\u001b[38;5;28;43mself\u001b[39;49m\u001b[43m,\u001b[49m\u001b[43m \u001b[49m\u001b[38;5;241;43m*\u001b[39;49m\u001b[43margs\u001b[49m\u001b[43m,\u001b[49m\u001b[43m \u001b[49m\u001b[38;5;241;43m*\u001b[39;49m\u001b[38;5;241;43m*\u001b[39;49m\u001b[43mkwargs\u001b[49m\u001b[43m)\u001b[49m\n\u001b[1;32m     83\u001b[0m     flags \u001b[38;5;241m=\u001b[39m \u001b[38;5;28mself\u001b[39m\u001b[38;5;241m.\u001b[39m_ndarray\u001b[38;5;241m.\u001b[39mflags\n\u001b[1;32m     84\u001b[0m     flat \u001b[38;5;241m=\u001b[39m \u001b[38;5;28mself\u001b[39m\u001b[38;5;241m.\u001b[39mravel(\u001b[38;5;124m\"\u001b[39m\u001b[38;5;124mK\u001b[39m\u001b[38;5;124m\"\u001b[39m)\n",
      "File \u001b[0;32m~/.pyenv/versions/Smart_Public_Bus_Optimization_in_Mauritius/lib/python3.10/site-packages/pandas/core/arrays/categorical.py:1664\u001b[0m, in \u001b[0;36mCategorical.__array__\u001b[0;34m(self, dtype, copy)\u001b[0m\n\u001b[1;32m   1662\u001b[0m ret \u001b[38;5;241m=\u001b[39m take_nd(\u001b[38;5;28mself\u001b[39m\u001b[38;5;241m.\u001b[39mcategories\u001b[38;5;241m.\u001b[39m_values, \u001b[38;5;28mself\u001b[39m\u001b[38;5;241m.\u001b[39m_codes)\n\u001b[1;32m   1663\u001b[0m \u001b[38;5;28;01mif\u001b[39;00m dtype \u001b[38;5;129;01mand\u001b[39;00m np\u001b[38;5;241m.\u001b[39mdtype(dtype) \u001b[38;5;241m!=\u001b[39m \u001b[38;5;28mself\u001b[39m\u001b[38;5;241m.\u001b[39mcategories\u001b[38;5;241m.\u001b[39mdtype:\n\u001b[0;32m-> 1664\u001b[0m     \u001b[38;5;28;01mreturn\u001b[39;00m \u001b[43mnp\u001b[49m\u001b[38;5;241;43m.\u001b[39;49m\u001b[43masarray\u001b[49m\u001b[43m(\u001b[49m\u001b[43mret\u001b[49m\u001b[43m,\u001b[49m\u001b[43m \u001b[49m\u001b[43mdtype\u001b[49m\u001b[43m)\u001b[49m\n\u001b[1;32m   1665\u001b[0m \u001b[38;5;66;03m# When we're a Categorical[ExtensionArray], like Interval,\u001b[39;00m\n\u001b[1;32m   1666\u001b[0m \u001b[38;5;66;03m# we need to ensure __array__ gets all the way to an\u001b[39;00m\n\u001b[1;32m   1667\u001b[0m \u001b[38;5;66;03m# ndarray.\u001b[39;00m\n\u001b[1;32m   1668\u001b[0m \u001b[38;5;28;01mreturn\u001b[39;00m np\u001b[38;5;241m.\u001b[39masarray(ret)\n",
      "\u001b[0;31mValueError\u001b[0m: could not convert string to float: 'NYCT_430'"
     ]
    }
   ],
   "source": [
    "correlation_matrix = data_cleaned.corr()\n",
    "plt.figure(figsize=(10, 8))\n",
    "sns.heatmap(correlation_matrix, annot=True, cmap='coolwarm', fmt=\".2f\")\n",
    "plt.show()"
   ]
  },
  {
   "cell_type": "markdown",
   "id": "e90f6b1f",
   "metadata": {},
   "source": [
    "## Feature engineering (ie: Cyclical Encoding for timetables)"
   ]
  }
 ],
 "metadata": {
  "kernelspec": {
   "display_name": "Smart_Public_Bus_Optimization_in_Mauritius",
   "language": "python",
   "name": "python3"
  },
  "language_info": {
   "codemirror_mode": {
    "name": "ipython",
    "version": 3
   },
   "file_extension": ".py",
   "mimetype": "text/x-python",
   "name": "python",
   "nbconvert_exporter": "python",
   "pygments_lexer": "ipython3",
   "version": "3.10.6"
  }
 },
 "nbformat": 4,
 "nbformat_minor": 5
}
